{
 "cells": [
  {
   "cell_type": "markdown",
   "metadata": {},
   "source": [
    "I obtained data on Airbnbs in Edinburgh for both 2019/20 (compiled on 25th June 2019) and 2020/21 (compiled on 23rd June 2020). All of the data were collected by the [Inside Airbnb](http://insideairbnb.com/get-the-data.html) project, although only the most recent year is available on their website. The 2019-20 data were sourced on [Kaggle](https://www.kaggle.com/thoroc/edinburgh-inside-airbnb). First, I take a first at the listings from the **2019/20** data."
   ]
  },
  {
   "cell_type": "code",
   "execution_count": 1,
   "metadata": {},
   "outputs": [],
   "source": [
    "import pandas as pd\n",
    "import numpy as np\n",
    "import matplotlib.pyplot as plt\n",
    "import seaborn as sn"
   ]
  },
  {
   "cell_type": "markdown",
   "metadata": {},
   "source": [
    "### Looking at the Data"
   ]
  },
  {
   "cell_type": "markdown",
   "metadata": {},
   "source": [
    "First I will look at the listings of 13,245 properties. The listings tables are extremely dense, and could be used to generate even more data as they contain large blocks of text (e.g. room descriptions). A key thing to note is that the availability column is of limited use, because Airbnb does not differentiate between a booked lets and lets listed as unavailable by hosts (e.g. because the host is staying in the property at that time). "
   ]
  },
  {
   "cell_type": "code",
   "execution_count": 10,
   "metadata": {},
   "outputs": [
    {
     "data": {
      "text/plain": [
       "['id',\n",
       " 'name',\n",
       " 'host_id',\n",
       " 'host_name',\n",
       " 'neighbourhood_group',\n",
       " 'neighbourhood',\n",
       " 'latitude',\n",
       " 'longitude',\n",
       " 'room_type',\n",
       " 'price',\n",
       " 'minimum_nights',\n",
       " 'number_of_reviews',\n",
       " 'last_review',\n",
       " 'reviews_per_month',\n",
       " 'calculated_host_listings_count',\n",
       " 'availability_365']"
      ]
     },
     "execution_count": 10,
     "metadata": {},
     "output_type": "execute_result"
    }
   ],
   "source": [
    "listings_summary = pd.read_csv('../data19/listings-summary.csv')\n",
    "listings_summary.shape\n",
    "list(listings_summary.columns)"
   ]
  },
  {
   "cell_type": "code",
   "execution_count": 11,
   "metadata": {},
   "outputs": [
    {
     "data": {
      "text/plain": [
       "Old Town, Princes Street and Leith Street    951\n",
       "Tollcross                                    624\n",
       "Deans Village                                575\n",
       "Meadows and Southside                        526\n",
       "Dalry and Fountainbridge                     479\n",
       "                                            ... \n",
       "Currie East                                   15\n",
       "Oxgangs                                       14\n",
       "Barnton, Cammo and Cramond South              13\n",
       "Moredun and Craigour                          11\n",
       "Queensferry West                               9\n",
       "Name: neighbourhood, Length: 111, dtype: int64"
      ]
     },
     "execution_count": 11,
     "metadata": {},
     "output_type": "execute_result"
    }
   ],
   "source": [
    "listings_summary.neighbourhood.value_counts()"
   ]
  },
  {
   "cell_type": "code",
   "execution_count": 12,
   "metadata": {},
   "outputs": [
    {
     "data": {
      "text/plain": [
       "Entire home/apt    8289\n",
       "Private room       4884\n",
       "Shared room          72\n",
       "Name: room_type, dtype: int64"
      ]
     },
     "execution_count": 12,
     "metadata": {},
     "output_type": "execute_result"
    }
   ],
   "source": [
    "listings_summary.room_type.value_counts()"
   ]
  },
  {
   "cell_type": "code",
   "execution_count": 13,
   "metadata": {},
   "outputs": [
    {
     "data": {
      "text/html": [
       "<div>\n",
       "<style scoped>\n",
       "    .dataframe tbody tr th:only-of-type {\n",
       "        vertical-align: middle;\n",
       "    }\n",
       "\n",
       "    .dataframe tbody tr th {\n",
       "        vertical-align: top;\n",
       "    }\n",
       "\n",
       "    .dataframe thead th {\n",
       "        text-align: right;\n",
       "    }\n",
       "</style>\n",
       "<table border=\"1\" class=\"dataframe\">\n",
       "  <thead>\n",
       "    <tr style=\"text-align: right;\">\n",
       "      <th></th>\n",
       "      <th>id</th>\n",
       "      <th>host_id</th>\n",
       "      <th>neighbourhood_group</th>\n",
       "      <th>latitude</th>\n",
       "      <th>longitude</th>\n",
       "      <th>price</th>\n",
       "      <th>minimum_nights</th>\n",
       "      <th>number_of_reviews</th>\n",
       "      <th>reviews_per_month</th>\n",
       "      <th>calculated_host_listings_count</th>\n",
       "      <th>availability_365</th>\n",
       "    </tr>\n",
       "  </thead>\n",
       "  <tbody>\n",
       "    <tr>\n",
       "      <td>count</td>\n",
       "      <td>1.324500e+04</td>\n",
       "      <td>1.324500e+04</td>\n",
       "      <td>0.0</td>\n",
       "      <td>13245.000000</td>\n",
       "      <td>13245.000000</td>\n",
       "      <td>13245.000000</td>\n",
       "      <td>13245.000000</td>\n",
       "      <td>13245.000000</td>\n",
       "      <td>11213.000000</td>\n",
       "      <td>13245.000000</td>\n",
       "      <td>13245.000000</td>\n",
       "    </tr>\n",
       "    <tr>\n",
       "      <td>mean</td>\n",
       "      <td>2.007724e+07</td>\n",
       "      <td>7.895519e+07</td>\n",
       "      <td>NaN</td>\n",
       "      <td>55.950495</td>\n",
       "      <td>-3.198244</td>\n",
       "      <td>125.897320</td>\n",
       "      <td>2.890449</td>\n",
       "      <td>37.725255</td>\n",
       "      <td>1.934130</td>\n",
       "      <td>5.448320</td>\n",
       "      <td>98.166478</td>\n",
       "    </tr>\n",
       "    <tr>\n",
       "      <td>std</td>\n",
       "      <td>9.844764e+06</td>\n",
       "      <td>7.367464e+07</td>\n",
       "      <td>NaN</td>\n",
       "      <td>0.016005</td>\n",
       "      <td>0.037258</td>\n",
       "      <td>390.113085</td>\n",
       "      <td>15.263121</td>\n",
       "      <td>63.908517</td>\n",
       "      <td>2.107862</td>\n",
       "      <td>16.770714</td>\n",
       "      <td>111.798509</td>\n",
       "    </tr>\n",
       "    <tr>\n",
       "      <td>min</td>\n",
       "      <td>1.542000e+04</td>\n",
       "      <td>3.307800e+04</td>\n",
       "      <td>NaN</td>\n",
       "      <td>55.864540</td>\n",
       "      <td>-3.418340</td>\n",
       "      <td>0.000000</td>\n",
       "      <td>1.000000</td>\n",
       "      <td>0.000000</td>\n",
       "      <td>0.010000</td>\n",
       "      <td>1.000000</td>\n",
       "      <td>0.000000</td>\n",
       "    </tr>\n",
       "    <tr>\n",
       "      <td>25%</td>\n",
       "      <td>1.327911e+07</td>\n",
       "      <td>1.915174e+07</td>\n",
       "      <td>NaN</td>\n",
       "      <td>55.940560</td>\n",
       "      <td>-3.213760</td>\n",
       "      <td>50.000000</td>\n",
       "      <td>1.000000</td>\n",
       "      <td>2.000000</td>\n",
       "      <td>0.370000</td>\n",
       "      <td>1.000000</td>\n",
       "      <td>0.000000</td>\n",
       "    </tr>\n",
       "    <tr>\n",
       "      <td>50%</td>\n",
       "      <td>2.017184e+07</td>\n",
       "      <td>5.140714e+07</td>\n",
       "      <td>NaN</td>\n",
       "      <td>55.950920</td>\n",
       "      <td>-3.193960</td>\n",
       "      <td>75.000000</td>\n",
       "      <td>2.000000</td>\n",
       "      <td>12.000000</td>\n",
       "      <td>1.110000</td>\n",
       "      <td>1.000000</td>\n",
       "      <td>50.000000</td>\n",
       "    </tr>\n",
       "    <tr>\n",
       "      <td>75%</td>\n",
       "      <td>2.739792e+07</td>\n",
       "      <td>1.291968e+08</td>\n",
       "      <td>NaN</td>\n",
       "      <td>55.960860</td>\n",
       "      <td>-3.177350</td>\n",
       "      <td>119.000000</td>\n",
       "      <td>2.000000</td>\n",
       "      <td>45.000000</td>\n",
       "      <td>2.890000</td>\n",
       "      <td>3.000000</td>\n",
       "      <td>161.000000</td>\n",
       "    </tr>\n",
       "    <tr>\n",
       "      <td>max</td>\n",
       "      <td>3.606601e+07</td>\n",
       "      <td>2.711014e+08</td>\n",
       "      <td>NaN</td>\n",
       "      <td>55.991760</td>\n",
       "      <td>-3.078950</td>\n",
       "      <td>12345.000000</td>\n",
       "      <td>1000.000000</td>\n",
       "      <td>773.000000</td>\n",
       "      <td>19.150000</td>\n",
       "      <td>135.000000</td>\n",
       "      <td>365.000000</td>\n",
       "    </tr>\n",
       "  </tbody>\n",
       "</table>\n",
       "</div>"
      ],
      "text/plain": [
       "                 id       host_id  neighbourhood_group      latitude  \\\n",
       "count  1.324500e+04  1.324500e+04                  0.0  13245.000000   \n",
       "mean   2.007724e+07  7.895519e+07                  NaN     55.950495   \n",
       "std    9.844764e+06  7.367464e+07                  NaN      0.016005   \n",
       "min    1.542000e+04  3.307800e+04                  NaN     55.864540   \n",
       "25%    1.327911e+07  1.915174e+07                  NaN     55.940560   \n",
       "50%    2.017184e+07  5.140714e+07                  NaN     55.950920   \n",
       "75%    2.739792e+07  1.291968e+08                  NaN     55.960860   \n",
       "max    3.606601e+07  2.711014e+08                  NaN     55.991760   \n",
       "\n",
       "          longitude         price  minimum_nights  number_of_reviews  \\\n",
       "count  13245.000000  13245.000000    13245.000000       13245.000000   \n",
       "mean      -3.198244    125.897320        2.890449          37.725255   \n",
       "std        0.037258    390.113085       15.263121          63.908517   \n",
       "min       -3.418340      0.000000        1.000000           0.000000   \n",
       "25%       -3.213760     50.000000        1.000000           2.000000   \n",
       "50%       -3.193960     75.000000        2.000000          12.000000   \n",
       "75%       -3.177350    119.000000        2.000000          45.000000   \n",
       "max       -3.078950  12345.000000     1000.000000         773.000000   \n",
       "\n",
       "       reviews_per_month  calculated_host_listings_count  availability_365  \n",
       "count       11213.000000                    13245.000000      13245.000000  \n",
       "mean            1.934130                        5.448320         98.166478  \n",
       "std             2.107862                       16.770714        111.798509  \n",
       "min             0.010000                        1.000000          0.000000  \n",
       "25%             0.370000                        1.000000          0.000000  \n",
       "50%             1.110000                        1.000000         50.000000  \n",
       "75%             2.890000                        3.000000        161.000000  \n",
       "max            19.150000                      135.000000        365.000000  "
      ]
     },
     "execution_count": 13,
     "metadata": {},
     "output_type": "execute_result"
    }
   ],
   "source": [
    "listings_summary.describe()"
   ]
  },
  {
   "cell_type": "code",
   "execution_count": 14,
   "metadata": {},
   "outputs": [
    {
     "data": {
      "text/plain": [
       "array([[<matplotlib.axes._subplots.AxesSubplot object at 0x0000017377F47488>]],\n",
       "      dtype=object)"
      ]
     },
     "execution_count": 14,
     "metadata": {},
     "output_type": "execute_result"
    },
    {
     "data": {
      "image/png": "[encoded data removed]",
      "text/plain": [
       "<Figure size 432x288 with 1 Axes>"
      ]
     },
     "metadata": {
      "needs_background": "light"
     },
     "output_type": "display_data"
    },
    {
     "data": {
      "image/png": "[encoded data removed]",
      "text/plain": [
       "<Figure size 432x288 with 1 Axes>"
      ]
     },
     "metadata": {
      "needs_background": "light"
     },
     "output_type": "display_data"
    },
    {
     "data": {
      "image/png": "[encoded data removed]",
      "text/plain": [
       "<Figure size 432x288 with 1 Axes>"
      ]
     },
     "metadata": {
      "needs_background": "light"
     },
     "output_type": "display_data"
    }
   ],
   "source": [
    "listings_summary.hist(column = 'price', bins = 100)\n",
    "listings_summary.hist(column = 'number_of_reviews', bins = 100)\n",
    "listings_summary.hist(column = 'reviews_per_month', bins = 100)"
   ]
  },
  {
   "cell_type": "markdown",
   "metadata": {},
   "source": [
    "None of the continuous variables in the summary listings table correlate strongly with price. There are, however, large differences in the mean price of an Airbnb depending on the area it is located in."
   ]
  },
  {
   "cell_type": "code",
   "execution_count": 15,
   "metadata": {},
   "outputs": [
    {
     "data": {
      "image/png": "[encoded data removed]",
      "text/plain": [
       "<Figure size 432x288 with 2 Axes>"
      ]
     },
     "metadata": {
      "needs_background": "light"
     },
     "output_type": "display_data"
    }
   ],
   "source": [
    "corrMatrix = listings_summary.drop(['id', 'host_id', 'neighbourhood_group', 'neighbourhood'], axis = 1).corr()\n",
    "sn.heatmap(corrMatrix, annot=True)\n",
    "plt.show()"
   ]
  },
  {
   "cell_type": "code",
   "execution_count": 26,
   "metadata": {},
   "outputs": [
    {
     "data": {
      "text/plain": [
       "neighbourhood\n",
       "Hyvots and Gilmerton                          41.363636\n",
       "Currie West                                   45.315789\n",
       "Niddrie                                       46.750000\n",
       "Mortonhall and Anwickhill                     47.888889\n",
       "Granton South and Wardieburn                  48.250000\n",
       "                                                ...    \n",
       "Old Town, Princes Street and Leith Street    201.898002\n",
       "Pilrig                                       214.228261\n",
       "Dalry and Fountainbridge                     214.471816\n",
       "The Calders                                  243.080000\n",
       "Leith (Albert Street)                        326.223958\n",
       "Name: price, Length: 111, dtype: float64"
      ]
     },
     "execution_count": 26,
     "metadata": {},
     "output_type": "execute_result"
    }
   ],
   "source": [
    "listings_summary.groupby(by='neighbourhood')['price'].mean().sort_values()"
   ]
  },
  {
   "cell_type": "markdown",
   "metadata": {},
   "source": [
    "Now I move onto looking at the more detailed listings table. This requires reformatting of the price column."
   ]
  },
  {
   "cell_type": "code",
   "execution_count": 28,
   "metadata": {},
   "outputs": [
    {
     "name": "stderr",
     "output_type": "stream",
     "text": [
      "C:\\Users\\s1533194\\AppData\\Local\\Continuum\\anaconda3\\lib\\site-packages\\IPython\\core\\interactiveshell.py:3058: DtypeWarning: Columns (94) have mixed types. Specify dtype option on import or set low_memory=False.\n",
      "  interactivity=interactivity, compiler=compiler, result=result)\n"
     ]
    },
    {
     "data": {
      "text/plain": [
       "['id',\n",
       " 'listing_url',\n",
       " 'scrape_id',\n",
       " 'last_scraped',\n",
       " 'name',\n",
       " 'summary',\n",
       " 'space',\n",
       " 'description',\n",
       " 'experiences_offered',\n",
       " 'neighborhood_overview',\n",
       " 'notes',\n",
       " 'transit',\n",
       " 'access',\n",
       " 'interaction',\n",
       " 'house_rules',\n",
       " 'thumbnail_url',\n",
       " 'medium_url',\n",
       " 'picture_url',\n",
       " 'xl_picture_url',\n",
       " 'host_id',\n",
       " 'host_url',\n",
       " 'host_name',\n",
       " 'host_since',\n",
       " 'host_location',\n",
       " 'host_about',\n",
       " 'host_response_time',\n",
       " 'host_response_rate',\n",
       " 'host_acceptance_rate',\n",
       " 'host_is_superhost',\n",
       " 'host_thumbnail_url',\n",
       " 'host_picture_url',\n",
       " 'host_neighbourhood',\n",
       " 'host_listings_count',\n",
       " 'host_total_listings_count',\n",
       " 'host_verifications',\n",
       " 'host_has_profile_pic',\n",
       " 'host_identity_verified',\n",
       " 'street',\n",
       " 'neighbourhood',\n",
       " 'neighbourhood_cleansed',\n",
       " 'neighbourhood_group_cleansed',\n",
       " 'city',\n",
       " 'state',\n",
       " 'zipcode',\n",
       " 'market',\n",
       " 'smart_location',\n",
       " 'country_code',\n",
       " 'country',\n",
       " 'latitude',\n",
       " 'longitude',\n",
       " 'is_location_exact',\n",
       " 'property_type',\n",
       " 'room_type',\n",
       " 'accommodates',\n",
       " 'bathrooms',\n",
       " 'bedrooms',\n",
       " 'beds',\n",
       " 'bed_type',\n",
       " 'amenities',\n",
       " 'square_feet',\n",
       " 'price',\n",
       " 'weekly_price',\n",
       " 'monthly_price',\n",
       " 'security_deposit',\n",
       " 'cleaning_fee',\n",
       " 'guests_included',\n",
       " 'extra_people',\n",
       " 'minimum_nights',\n",
       " 'maximum_nights',\n",
       " 'minimum_minimum_nights',\n",
       " 'maximum_minimum_nights',\n",
       " 'minimum_maximum_nights',\n",
       " 'maximum_maximum_nights',\n",
       " 'minimum_nights_avg_ntm',\n",
       " 'maximum_nights_avg_ntm',\n",
       " 'calendar_updated',\n",
       " 'has_availability',\n",
       " 'availability_30',\n",
       " 'availability_60',\n",
       " 'availability_90',\n",
       " 'availability_365',\n",
       " 'calendar_last_scraped',\n",
       " 'number_of_reviews',\n",
       " 'number_of_reviews_ltm',\n",
       " 'first_review',\n",
       " 'last_review',\n",
       " 'review_scores_rating',\n",
       " 'review_scores_accuracy',\n",
       " 'review_scores_cleanliness',\n",
       " 'review_scores_checkin',\n",
       " 'review_scores_communication',\n",
       " 'review_scores_location',\n",
       " 'review_scores_value',\n",
       " 'requires_license',\n",
       " 'license',\n",
       " 'jurisdiction_names',\n",
       " 'instant_bookable',\n",
       " 'is_business_travel_ready',\n",
       " 'cancellation_policy',\n",
       " 'require_guest_profile_picture',\n",
       " 'require_guest_phone_verification',\n",
       " 'calculated_host_listings_count',\n",
       " 'calculated_host_listings_count_entire_homes',\n",
       " 'calculated_host_listings_count_private_rooms',\n",
       " 'calculated_host_listings_count_shared_rooms',\n",
       " 'reviews_per_month']"
      ]
     },
     "execution_count": 28,
     "metadata": {},
     "output_type": "execute_result"
    }
   ],
   "source": [
    "listings = pd.read_csv('../data19/listings.csv')\n",
    "listings.shape\n",
    "list(listings.columns)"
   ]
  },
  {
   "cell_type": "code",
   "execution_count": 60,
   "metadata": {},
   "outputs": [],
   "source": [
    "def format_price(dataframe, column):\n",
    "    dataframe[column] = dataframe[column].str.replace('$', '')\n",
    "    dataframe[column] = dataframe[column].str.replace(',', '')\n",
    "    dataframe[column] = pd.to_numeric(dataframe[column])\n",
    "\n",
    "format_price(listings, \"price\")"
   ]
  },
  {
   "cell_type": "markdown",
   "metadata": {},
   "source": [
    "I add a column that indicates whether an Airbnb has a real bed or not. I look for correlations between features such as bedrooms, bathrooms, and the number of people an Airbnb accomodates and its price. \n",
    "\n",
    "However, Airbnbs can also opt to charge extra for additional people staying in larger properties. The `price` column only refers to `guests_included`, and additional guests are charged at `extra_people`. Therefore, I can create another column which is price per included guest (`price_pig` = `price`/`guests_included`). I can also create a column that is price at full capacity (`price_fullcap` = `price` + `extra_people` * (`accomodates` - `guests_included`)). On 6 occassions this results in a negative number for `price_fullcap`, because the owner of the Airbnb has listed the price as including more individuals than the property can accomodate. In such cases, `price_fullcap` is just set to `price`."
   ]
  },
  {
   "cell_type": "code",
   "execution_count": 37,
   "metadata": {},
   "outputs": [
    {
     "data": {
      "text/plain": [
       "1    13120\n",
       "0      125\n",
       "Name: real_bed, dtype: int64"
      ]
     },
     "execution_count": 37,
     "metadata": {},
     "output_type": "execute_result"
    }
   ],
   "source": [
    "listings.bed_type.value_counts()\n",
    "\n",
    "listings['real_bed'] = listings['bed_type'].apply(lambda x: 1 if (x == 'Real Bed') else 0)\n",
    "listings.real_bed.value_counts()"
   ]
  },
  {
   "cell_type": "code",
   "execution_count": 83,
   "metadata": {},
   "outputs": [
    {
     "data": {
      "text/plain": [
       "0.0     8236\n",
       "15.0    1465\n",
       "10.0    1177\n",
       "20.0     653\n",
       "25.0     371\n",
       "Name: extra_people, dtype: int64"
      ]
     },
     "execution_count": 83,
     "metadata": {},
     "output_type": "execute_result"
    }
   ],
   "source": [
    "listings.guests_included.value_counts()\n",
    "listings.extra_people.value_counts().head()"
   ]
  },
  {
   "cell_type": "code",
   "execution_count": 104,
   "metadata": {},
   "outputs": [
    {
     "data": {
      "text/html": [
       "<div>\n",
       "<style scoped>\n",
       "    .dataframe tbody tr th:only-of-type {\n",
       "        vertical-align: middle;\n",
       "    }\n",
       "\n",
       "    .dataframe tbody tr th {\n",
       "        vertical-align: top;\n",
       "    }\n",
       "\n",
       "    .dataframe thead th {\n",
       "        text-align: right;\n",
       "    }\n",
       "</style>\n",
       "<table border=\"1\" class=\"dataframe\">\n",
       "  <thead>\n",
       "    <tr style=\"text-align: right;\">\n",
       "      <th></th>\n",
       "      <th>price_pig</th>\n",
       "      <th>price_fullcap</th>\n",
       "      <th>accommodates</th>\n",
       "      <th>price</th>\n",
       "      <th>extra_people</th>\n",
       "      <th>guests_included</th>\n",
       "    </tr>\n",
       "  </thead>\n",
       "  <tbody>\n",
       "  </tbody>\n",
       "</table>\n",
       "</div>"
      ],
      "text/plain": [
       "Empty DataFrame\n",
       "Columns: [price_pig, price_fullcap, accommodates, price, extra_people, guests_included]\n",
       "Index: []"
      ]
     },
     "execution_count": 104,
     "metadata": {},
     "output_type": "execute_result"
    }
   ],
   "source": [
    "listings = listings.assign(price_pig = lambda dataframe : dataframe['price']/dataframe['guests_included'])\n",
    "\n",
    "format_price(listings, \"extra_people\")\n",
    "\n",
    "listings = listings.assign(price_fullcap = lambda dataframe : dataframe['price'] + dataframe['extra_people'] * (dataframe['accommodates'] - dataframe['guests_included']))\n",
    "\n",
    "listings.query('price_pig > price_fullcap')[['price_pig', 'price_fullcap', 'accommodates', 'price', 'extra_people', 'guests_included']]\n",
    "\n",
    "listings['price_fullcap'] = np.where((listings.price_pig > listings.price_fullcap),listings.price,listings.price_fullcap)"
   ]
  },
  {
   "cell_type": "code",
   "execution_count": 105,
   "metadata": {},
   "outputs": [
    {
     "data": {
      "image/png": "[encoded data removed]",
      "text/plain": [
       "<Figure size 432x288 with 2 Axes>"
      ]
     },
     "metadata": {
      "needs_background": "light"
     },
     "output_type": "display_data"
    },
    {
     "data": {
      "text/html": [
       "<div>\n",
       "<style scoped>\n",
       "    .dataframe tbody tr th:only-of-type {\n",
       "        vertical-align: middle;\n",
       "    }\n",
       "\n",
       "    .dataframe tbody tr th {\n",
       "        vertical-align: top;\n",
       "    }\n",
       "\n",
       "    .dataframe thead th {\n",
       "        text-align: right;\n",
       "    }\n",
       "</style>\n",
       "<table border=\"1\" class=\"dataframe\">\n",
       "  <thead>\n",
       "    <tr style=\"text-align: right;\">\n",
       "      <th></th>\n",
       "      <th>price</th>\n",
       "      <th>price_pig</th>\n",
       "      <th>price_fullcap</th>\n",
       "      <th>beds</th>\n",
       "      <th>bathrooms</th>\n",
       "      <th>bedrooms</th>\n",
       "      <th>real_bed</th>\n",
       "      <th>accommodates</th>\n",
       "    </tr>\n",
       "  </thead>\n",
       "  <tbody>\n",
       "    <tr>\n",
       "      <td>price</td>\n",
       "      <td>1.000000</td>\n",
       "      <td>0.904882</td>\n",
       "      <td>0.997855</td>\n",
       "      <td>0.170651</td>\n",
       "      <td>0.185875</td>\n",
       "      <td>0.163583</td>\n",
       "      <td>0.015974</td>\n",
       "      <td>0.187830</td>\n",
       "    </tr>\n",
       "    <tr>\n",
       "      <td>price_pig</td>\n",
       "      <td>0.904882</td>\n",
       "      <td>1.000000</td>\n",
       "      <td>0.901401</td>\n",
       "      <td>0.097650</td>\n",
       "      <td>0.151452</td>\n",
       "      <td>0.106743</td>\n",
       "      <td>0.012260</td>\n",
       "      <td>0.109344</td>\n",
       "    </tr>\n",
       "    <tr>\n",
       "      <td>price_fullcap</td>\n",
       "      <td>0.997855</td>\n",
       "      <td>0.901401</td>\n",
       "      <td>1.000000</td>\n",
       "      <td>0.190221</td>\n",
       "      <td>0.195775</td>\n",
       "      <td>0.176698</td>\n",
       "      <td>0.016478</td>\n",
       "      <td>0.208468</td>\n",
       "    </tr>\n",
       "    <tr>\n",
       "      <td>beds</td>\n",
       "      <td>0.170651</td>\n",
       "      <td>0.097650</td>\n",
       "      <td>0.190221</td>\n",
       "      <td>1.000000</td>\n",
       "      <td>0.488787</td>\n",
       "      <td>0.759699</td>\n",
       "      <td>0.042544</td>\n",
       "      <td>0.858349</td>\n",
       "    </tr>\n",
       "    <tr>\n",
       "      <td>bathrooms</td>\n",
       "      <td>0.185875</td>\n",
       "      <td>0.151452</td>\n",
       "      <td>0.195775</td>\n",
       "      <td>0.488787</td>\n",
       "      <td>1.000000</td>\n",
       "      <td>0.572819</td>\n",
       "      <td>0.031161</td>\n",
       "      <td>0.505610</td>\n",
       "    </tr>\n",
       "    <tr>\n",
       "      <td>bedrooms</td>\n",
       "      <td>0.163583</td>\n",
       "      <td>0.106743</td>\n",
       "      <td>0.176698</td>\n",
       "      <td>0.759699</td>\n",
       "      <td>0.572819</td>\n",
       "      <td>1.000000</td>\n",
       "      <td>0.051260</td>\n",
       "      <td>0.840446</td>\n",
       "    </tr>\n",
       "    <tr>\n",
       "      <td>real_bed</td>\n",
       "      <td>0.015974</td>\n",
       "      <td>0.012260</td>\n",
       "      <td>0.016478</td>\n",
       "      <td>0.042544</td>\n",
       "      <td>0.031161</td>\n",
       "      <td>0.051260</td>\n",
       "      <td>1.000000</td>\n",
       "      <td>0.049102</td>\n",
       "    </tr>\n",
       "    <tr>\n",
       "      <td>accommodates</td>\n",
       "      <td>0.187830</td>\n",
       "      <td>0.109344</td>\n",
       "      <td>0.208468</td>\n",
       "      <td>0.858349</td>\n",
       "      <td>0.505610</td>\n",
       "      <td>0.840446</td>\n",
       "      <td>0.049102</td>\n",
       "      <td>1.000000</td>\n",
       "    </tr>\n",
       "  </tbody>\n",
       "</table>\n",
       "</div>"
      ],
      "text/plain": [
       "                  price  price_pig  price_fullcap      beds  bathrooms  \\\n",
       "price          1.000000   0.904882       0.997855  0.170651   0.185875   \n",
       "price_pig      0.904882   1.000000       0.901401  0.097650   0.151452   \n",
       "price_fullcap  0.997855   0.901401       1.000000  0.190221   0.195775   \n",
       "beds           0.170651   0.097650       0.190221  1.000000   0.488787   \n",
       "bathrooms      0.185875   0.151452       0.195775  0.488787   1.000000   \n",
       "bedrooms       0.163583   0.106743       0.176698  0.759699   0.572819   \n",
       "real_bed       0.015974   0.012260       0.016478  0.042544   0.031161   \n",
       "accommodates   0.187830   0.109344       0.208468  0.858349   0.505610   \n",
       "\n",
       "               bedrooms  real_bed  accommodates  \n",
       "price          0.163583  0.015974      0.187830  \n",
       "price_pig      0.106743  0.012260      0.109344  \n",
       "price_fullcap  0.176698  0.016478      0.208468  \n",
       "beds           0.759699  0.042544      0.858349  \n",
       "bathrooms      0.572819  0.031161      0.505610  \n",
       "bedrooms       1.000000  0.051260      0.840446  \n",
       "real_bed       0.051260  1.000000      0.049102  \n",
       "accommodates   0.840446  0.049102      1.000000  "
      ]
     },
     "execution_count": 105,
     "metadata": {},
     "output_type": "execute_result"
    }
   ],
   "source": [
    "corrMatrix = listings[['price', 'price_pig', 'price_fullcap', 'beds', 'bathrooms', 'bedrooms', 'real_bed', 'accommodates']].corr()\n",
    "sn.heatmap(corrMatrix, annot=True)\n",
    "plt.show()\n",
    "corrMatrix"
   ]
  },
  {
   "cell_type": "markdown",
   "metadata": {},
   "source": [
    "The `space` column contains additional details on amenities that may be extra to what is in the true `amenities` column. I imagine amenities (especially those like parking, wifi, etc.) have a strong influence on pricing, so I extract these into their own columns."
   ]
  },
  {
   "cell_type": "code",
   "execution_count": 31,
   "metadata": {},
   "outputs": [
    {
     "data": {
      "text/plain": [
       "0    {TV,Internet,Wifi,\"Wheelchair accessible\",Kitc...\n",
       "1    {TV,Wifi,Kitchen,\"Paid parking off premises\",E...\n",
       "2    {TV,Internet,Wifi,\"Wheelchair accessible\",Kitc...\n",
       "3    {TV,\"Cable TV\",Internet,Wifi,Kitchen,\"Pets liv...\n",
       "4    {TV,Wifi,Kitchen,\"Paid parking off premises\",H...\n",
       "Name: amenities, dtype: object"
      ]
     },
     "execution_count": 31,
     "metadata": {},
     "output_type": "execute_result"
    }
   ],
   "source": [
    "listings.amenities.head()"
   ]
  },
  {
   "cell_type": "code",
   "execution_count": 32,
   "metadata": {},
   "outputs": [
    {
     "name": "stdout",
     "output_type": "stream",
     "text": [
      "0    11963\n",
      "1     1282\n",
      "Name: pets, dtype: int64\n",
      "0    8423\n",
      "1    4822\n",
      "Name: children, dtype: int64\n",
      "0    13027\n",
      "1      218\n",
      "Name: aircon, dtype: int64\n",
      "1    12756\n",
      "0      489\n",
      "Name: wifi, dtype: int64\n",
      "1    11066\n",
      "0     2179\n",
      "Name: washer, dtype: int64\n",
      "0    11485\n",
      "1     1760\n",
      "Name: garden, dtype: int64\n",
      "0    8245\n",
      "1    5000\n",
      "Name: oven, dtype: int64\n",
      "0    13042\n",
      "1      203\n",
      "Name: gym, dtype: int64\n",
      "1    9500\n",
      "0    3745\n",
      "Name: tv, dtype: int64\n",
      "0    11297\n",
      "1     1948\n",
      "Name: cable, dtype: int64\n",
      "0    8880\n",
      "1    4365\n",
      "Name: free_parking, dtype: int64\n",
      "0    10790\n",
      "1     2455\n",
      "Name: breakfast, dtype: int64\n",
      "0    10623\n",
      "1     2622\n",
      "Name: dishwasher, dtype: int64\n",
      "0    12599\n",
      "1      646\n",
      "Name: crib, dtype: int64\n",
      "1    8807\n",
      "0    4438\n",
      "Name: workspace, dtype: int64\n",
      "0    11848\n",
      "1     1397\n",
      "Name: lift, dtype: int64\n",
      "0    12950\n",
      "1      295\n",
      "Name: wheelchair_access, dtype: int64\n",
      "0    12459\n",
      "1      786\n",
      "Name: balcony, dtype: int64\n",
      "0    12072\n",
      "1     1173\n",
      "Name: bathtub, dtype: int64\n",
      "0    11118\n",
      "1     2127\n",
      "Name: lugagge_dropoff, dtype: int64\n",
      "0    9363\n",
      "1    3882\n",
      "Name: self_checkin, dtype: int64\n",
      "0    9195\n",
      "1    4050\n",
      "Name: dryer, dtype: int64\n",
      "0    13098\n",
      "1      147\n",
      "Name: waterfront, dtype: int64\n",
      "0    11011\n",
      "1     2234\n",
      "Name: fireplace, dtype: int64\n"
     ]
    }
   ],
   "source": [
    "def countAmenities(search_term, col_name):\n",
    "    listings[col_name] = listings['amenities'].apply(lambda x: 1 if search_term in x else 0)\n",
    "    return(listings)\n",
    "\n",
    "amenitiesDict = {\n",
    "    \"pets\": \"Pets allowed\",\n",
    "    \"children\": \"Family/kid friendly\",\n",
    "    \"aircon\": \"Air conditioning\",\n",
    "    \"wifi\": \"Wifi\",\n",
    "    \"washer\": \"Washer\",\n",
    "    \"garden\": \"Garden or backyard\",\n",
    "    \"oven\": \"Oven\",\n",
    "    \"gym\": \"Gym\",\n",
    "    \"tv\": \"TV\",\n",
    "    \"cable\": \"Cable TV\",\n",
    "    \"free_parking\": \"Free parking on premises\",\n",
    "    \"breakfast\": \"Breakfast\",\n",
    "    \"dishwasher\": \"Dishwasher\",\n",
    "    \"crib\": \"Crib\",\n",
    "    \"workspace\": \"Laptop friendly workspace\",\n",
    "    \"lift\": \"Elevator\",\n",
    "    \"wheelchair_access\": \"Wheelchair accessible\",\n",
    "    \"balcony\": \"Patio or balcony\",\n",
    "    \"bathtub\": \"Bathtub\",\n",
    "    \"lugagge_dropoff\": \"Luggage dropoff allowed\",\n",
    "    \"self_checkin\": \"Self check-in\",\n",
    "    \"dryer\": \"Dryer\",\n",
    "    \"waterfront\": \"Waterfront\",\n",
    "    \"fireplace\": \"Indoor fireplace\"\n",
    "}\n",
    "\n",
    "\n",
    "for key in amenitiesDict:\n",
    "    listings = countAmenities(amenitiesDict[key], key)\n",
    "    print(listings[key].value_counts())"
   ]
  },
  {
   "cell_type": "markdown",
   "metadata": {},
   "source": [
    "None of the amenities features are strongly correlated with price: their correlations are all less than 0.1. Features positively correlated with price are lifts, TVs, and dryers. Perhaps surprisingly, features negatively correlated with price are breakfast and free parking. It could be that those who offer breakfast and free parking tend to be located further out of the city. "
   ]
  },
  {
   "cell_type": "code",
   "execution_count": 109,
   "metadata": {},
   "outputs": [
    {
     "data": {
      "text/plain": [
       "breakfast           -0.055546\n",
       "free_parking        -0.033818\n",
       "garden              -0.019827\n",
       "lugagge_dropoff     -0.017736\n",
       "self_checkin        -0.014073\n",
       "pets                -0.013983\n",
       "gym                 -0.007220\n",
       "wheelchair_access   -0.006824\n",
       "wifi                -0.005963\n",
       "cable               -0.002773\n",
       "bathtub             -0.002542\n",
       "aircon               0.001919\n",
       "fireplace            0.004415\n",
       "balcony              0.006371\n",
       "oven                 0.011258\n",
       "waterfront           0.011490\n",
       "washer               0.014629\n",
       "workspace            0.016978\n",
       "dishwasher           0.028779\n",
       "crib                 0.032679\n",
       "children             0.041216\n",
       "dryer                0.056167\n",
       "tv                   0.060504\n",
       "lift                 0.086011\n",
       "price_pig            0.901401\n",
       "price                0.997855\n",
       "price_fullcap        1.000000\n",
       "Name: price_fullcap, dtype: float64"
      ]
     },
     "execution_count": 109,
     "metadata": {},
     "output_type": "execute_result"
    }
   ],
   "source": [
    "corrMatrix = listings[[\"price\", \"price_pig\", \"price_fullcap\"] + list(amenitiesDict.keys())].corr()\n",
    "corrMatrix[\"price\"].sort_values()\n",
    "corrMatrix[\"price_pig\"].sort_values()\n",
    "corrMatrix[\"price_fullcap\"].sort_values()"
   ]
  },
  {
   "cell_type": "markdown",
   "metadata": {},
   "source": [
    "The columns `space`, `description`, `neighborhood_overview`, `summary` and `notes` offer large prose added by the owners of the Airbnb. At this moment in time, given the poor correlation of amenities with price, I will not extract any more details from these descriptions."
   ]
  },
  {
   "cell_type": "code",
   "execution_count": 34,
   "metadata": {},
   "outputs": [
    {
     "data": {
      "text/plain": [
       "Check-in time is after 3pm and check-out time is before 11am.  Please note that you will be charged £100 for lost keys, so please be careful with them.                                                                                                                                                                                                                                                                                                                                                                                                                                                                                                       35\n",
       "Please note we do charge a £30 late check in fee between 10PM and 12AM and £50 between 12AM and 7AM. If you require additional cleans/ linens during your stay for a fee, please contact us. Also note that we charge £50 for each set of lost keys (security keys may cost more). For security purposes, there may be an additional cost to replace the locks. So, please keep your keys safe :)                                                                                                                                                                                                                                                             25\n",
       "20% off from the restaurant downstairs, enjoy                                                                                                                                                                                                                                                                                                                                                                                                                                                                                                                                                                                                                 15\n",
       "Check in after 15:00 o'clock and check out at 10:00 o'clock.                                                                                                                                                                                                                                                                                                                                                                                                                                                                                                                                                                                                  14\n",
       "The property is professionally cleaned and hotel-quality linens and towels will be provided for your stay.                                                                                                                                                                                                                                                                                                                                                                                                                                                                                                                                                    13\n",
       "                                                                                                                                                                                                                                                                                                                                                                                                                                                                                                                                                                                                                                                              ..\n",
       "There is lots of things to do in and around Edinburgh. We are happy to help organise tours and tickets and give tips on what do during your stay with us.                                                                                                                                                                                                                                                                                                                                                                                                                                                                                                      1\n",
       "Check-in is between 4pm-10pm. If you arrive later than this without prior agreement it will incur a £30 additional fee.                                                                                                                                                                                                                                                                                                                                                                                                                                                                                                                                        1\n",
       "If you are staying in the flat with children, please keep an eye on them. We welcome families, but the flat is not especially child friendly. The flat is in a city centre location and parking can be difficult. The flat is on a road with resident or meter parking which operates from 8.30 to 6.30 on weekdays, but is free at weekends. There are streets where there is free parking about a 20 minute walk away and in the guest guide link that you are sent, I provide some information about this (map etc). However, we can't guarantee that the information will be up to date and guests should always check for local parking restrictions.     1\n",
       "The apartment has Wifi, washing machine, hair dryer                                                                                                                                                                                                                                                                                                                                                                                                                                                                                                                                                                                                            1\n",
       "I will not be in town during your stay                                                                                                                                                                                                                                                                                                                                                                                                                                                                                                                                                                                                                         1\n",
       "Name: notes, Length: 5521, dtype: int64"
      ]
     },
     "execution_count": 34,
     "metadata": {},
     "output_type": "execute_result"
    }
   ],
   "source": [
    "listings.space.value_counts()\n",
    "listings.description.value_counts()\n",
    "listings.summary.value_counts()\n",
    "listings.neighborhood_overview.value_counts()\n",
    "listings.notes.value_counts()"
   ]
  },
  {
   "cell_type": "markdown",
   "metadata": {},
   "source": [
    "I collapse together the different housing categories so there are fewer. I also give each type is own column to in preparation for future analyses. Against intuition, apartments and hostels are weakly positively correlated with price, whereas homes and hotels are weakly negatively correlated. I suspect this could be due to the fact that hostels and flats tend to be more centrally located."
   ]
  },
  {
   "cell_type": "code",
   "execution_count": 35,
   "metadata": {},
   "outputs": [
    {
     "data": {
      "text/plain": [
       "0    13121\n",
       "1      124\n",
       "Name: other_property_type, dtype: int64"
      ]
     },
     "execution_count": 35,
     "metadata": {},
     "output_type": "execute_result"
    }
   ],
   "source": [
    "listings.property_type.value_counts()\n",
    "\n",
    "listings['house'] = listings['property_type'].apply(lambda x: 1 if x in ['House', 'Cottage', 'Townhouse', 'Bungalow', 'Tiny house'] else 0)\n",
    "listings.house.value_counts()\n",
    "\n",
    "listings['apartment'] = listings['property_type'].apply(lambda x: 1 if x in ['Apartment', 'Serviced apartment', 'Condominium', 'Aparthotel'] else 0)\n",
    "listings.apartment.value_counts()\n",
    "\n",
    "listings['hotel'] = listings['property_type'].apply(lambda x: 1 if x in ['Boutique hotel', 'Guest suite', 'Guesthouse', 'Hotel', 'Bed and breakfast'] else 0)\n",
    "listings.hotel.value_counts()\n",
    "\n",
    "listings['hostel'] = listings['property_type'].apply(lambda x: 1 if x in ['Hostel'] else 0)\n",
    "listings.hostel.value_counts()\n",
    "\n",
    "listings['other_property_type'] = listings['property_type'].apply(lambda x: 1 if x in ['Loft', 'Villa', 'Camper/RV', 'Other', 'Tent', 'Cabin', 'Campsite', 'Chalet', 'Hut', 'Casa particular (Cuba)', 'Farm stay', 'Barn', 'Boat'] else 0)\n",
    "listings.other_property_type.value_counts()"
   ]
  },
  {
   "cell_type": "code",
   "execution_count": 106,
   "metadata": {},
   "outputs": [
    {
     "data": {
      "image/png": "[encoded data removed]",
      "text/plain": [
       "<Figure size 432x288 with 2 Axes>"
      ]
     },
     "metadata": {
      "needs_background": "light"
     },
     "output_type": "display_data"
    },
    {
     "data": {
      "text/html": [
       "<div>\n",
       "<style scoped>\n",
       "    .dataframe tbody tr th:only-of-type {\n",
       "        vertical-align: middle;\n",
       "    }\n",
       "\n",
       "    .dataframe tbody tr th {\n",
       "        vertical-align: top;\n",
       "    }\n",
       "\n",
       "    .dataframe thead th {\n",
       "        text-align: right;\n",
       "    }\n",
       "</style>\n",
       "<table border=\"1\" class=\"dataframe\">\n",
       "  <thead>\n",
       "    <tr style=\"text-align: right;\">\n",
       "      <th></th>\n",
       "      <th>price</th>\n",
       "      <th>price_pig</th>\n",
       "      <th>price_fullcap</th>\n",
       "      <th>house</th>\n",
       "      <th>apartment</th>\n",
       "      <th>hotel</th>\n",
       "      <th>hostel</th>\n",
       "      <th>other_property_type</th>\n",
       "    </tr>\n",
       "  </thead>\n",
       "  <tbody>\n",
       "    <tr>\n",
       "      <td>price</td>\n",
       "      <td>1.000000</td>\n",
       "      <td>0.904882</td>\n",
       "      <td>0.997855</td>\n",
       "      <td>-0.020993</td>\n",
       "      <td>0.015728</td>\n",
       "      <td>-0.007705</td>\n",
       "      <td>0.032549</td>\n",
       "      <td>0.001145</td>\n",
       "    </tr>\n",
       "    <tr>\n",
       "      <td>price_pig</td>\n",
       "      <td>0.904882</td>\n",
       "      <td>1.000000</td>\n",
       "      <td>0.901401</td>\n",
       "      <td>-0.012881</td>\n",
       "      <td>0.005689</td>\n",
       "      <td>-0.005947</td>\n",
       "      <td>0.041111</td>\n",
       "      <td>0.002854</td>\n",
       "    </tr>\n",
       "    <tr>\n",
       "      <td>price_fullcap</td>\n",
       "      <td>0.997855</td>\n",
       "      <td>0.901401</td>\n",
       "      <td>1.000000</td>\n",
       "      <td>-0.020341</td>\n",
       "      <td>0.015572</td>\n",
       "      <td>-0.007909</td>\n",
       "      <td>0.031220</td>\n",
       "      <td>0.000720</td>\n",
       "    </tr>\n",
       "    <tr>\n",
       "      <td>house</td>\n",
       "      <td>-0.020993</td>\n",
       "      <td>-0.012881</td>\n",
       "      <td>-0.020341</td>\n",
       "      <td>1.000000</td>\n",
       "      <td>-0.866275</td>\n",
       "      <td>-0.057703</td>\n",
       "      <td>-0.026449</td>\n",
       "      <td>-0.037493</td>\n",
       "    </tr>\n",
       "    <tr>\n",
       "      <td>apartment</td>\n",
       "      <td>0.015728</td>\n",
       "      <td>0.005689</td>\n",
       "      <td>0.015572</td>\n",
       "      <td>-0.866275</td>\n",
       "      <td>1.000000</td>\n",
       "      <td>-0.336062</td>\n",
       "      <td>-0.154038</td>\n",
       "      <td>-0.218356</td>\n",
       "    </tr>\n",
       "    <tr>\n",
       "      <td>hotel</td>\n",
       "      <td>-0.007705</td>\n",
       "      <td>-0.005947</td>\n",
       "      <td>-0.007909</td>\n",
       "      <td>-0.057703</td>\n",
       "      <td>-0.336062</td>\n",
       "      <td>1.000000</td>\n",
       "      <td>-0.010261</td>\n",
       "      <td>-0.014545</td>\n",
       "    </tr>\n",
       "    <tr>\n",
       "      <td>hostel</td>\n",
       "      <td>0.032549</td>\n",
       "      <td>0.041111</td>\n",
       "      <td>0.031220</td>\n",
       "      <td>-0.026449</td>\n",
       "      <td>-0.154038</td>\n",
       "      <td>-0.010261</td>\n",
       "      <td>1.000000</td>\n",
       "      <td>-0.006667</td>\n",
       "    </tr>\n",
       "    <tr>\n",
       "      <td>other_property_type</td>\n",
       "      <td>0.001145</td>\n",
       "      <td>0.002854</td>\n",
       "      <td>0.000720</td>\n",
       "      <td>-0.037493</td>\n",
       "      <td>-0.218356</td>\n",
       "      <td>-0.014545</td>\n",
       "      <td>-0.006667</td>\n",
       "      <td>1.000000</td>\n",
       "    </tr>\n",
       "  </tbody>\n",
       "</table>\n",
       "</div>"
      ],
      "text/plain": [
       "                        price  price_pig  price_fullcap     house  apartment  \\\n",
       "price                1.000000   0.904882       0.997855 -0.020993   0.015728   \n",
       "price_pig            0.904882   1.000000       0.901401 -0.012881   0.005689   \n",
       "price_fullcap        0.997855   0.901401       1.000000 -0.020341   0.015572   \n",
       "house               -0.020993  -0.012881      -0.020341  1.000000  -0.866275   \n",
       "apartment            0.015728   0.005689       0.015572 -0.866275   1.000000   \n",
       "hotel               -0.007705  -0.005947      -0.007909 -0.057703  -0.336062   \n",
       "hostel               0.032549   0.041111       0.031220 -0.026449  -0.154038   \n",
       "other_property_type  0.001145   0.002854       0.000720 -0.037493  -0.218356   \n",
       "\n",
       "                        hotel    hostel  other_property_type  \n",
       "price               -0.007705  0.032549             0.001145  \n",
       "price_pig           -0.005947  0.041111             0.002854  \n",
       "price_fullcap       -0.007909  0.031220             0.000720  \n",
       "house               -0.057703 -0.026449            -0.037493  \n",
       "apartment           -0.336062 -0.154038            -0.218356  \n",
       "hotel                1.000000 -0.010261            -0.014545  \n",
       "hostel              -0.010261  1.000000            -0.006667  \n",
       "other_property_type -0.014545 -0.006667             1.000000  "
      ]
     },
     "execution_count": 106,
     "metadata": {},
     "output_type": "execute_result"
    }
   ],
   "source": [
    "corrMatrix = listings[['price', 'price_pig', 'price_fullcap', 'house', 'apartment', 'hotel', 'hostel', 'other_property_type']].corr()\n",
    "sn.heatmap(corrMatrix, annot=True)\n",
    "plt.show()\n",
    "corrMatrix"
   ]
  },
  {
   "cell_type": "code",
   "execution_count": 240,
   "metadata": {},
   "outputs": [
    {
     "data": {
      "text/plain": [
       "1.0     6164\n",
       "2.0     3710\n",
       "3.0     1801\n",
       "4.0      832\n",
       "5.0      329\n",
       "6.0      159\n",
       "8.0       52\n",
       "7.0       47\n",
       "0.0       42\n",
       "9.0       20\n",
       "16.0      17\n",
       "10.0      15\n",
       "12.0      11\n",
       "11.0       7\n",
       "14.0       7\n",
       "15.0       5\n",
       "20.0       3\n",
       "17.0       2\n",
       "13.0       2\n",
       "30.0       1\n",
       "25.0       1\n",
       "22.0       1\n",
       "24.0       1\n",
       "21.0       1\n",
       "Name: beds, dtype: int64"
      ]
     },
     "execution_count": 240,
     "metadata": {},
     "output_type": "execute_result"
    }
   ],
   "source": [
    "listings.bathrooms.value_counts()\n",
    "listings.bedrooms.value_counts()\n",
    "listings.beds.value_counts()\n",
    "listings.accommodates.value_counts()"
   ]
  },
  {
   "cell_type": "markdown",
   "metadata": {},
   "source": [
    "I one hot encode the neighbourhoods."
   ]
  },
  {
   "cell_type": "code",
   "execution_count": 157,
   "metadata": {},
   "outputs": [
    {
     "data": {
      "text/html": [
       "<div>\n",
       "<style scoped>\n",
       "    .dataframe tbody tr th:only-of-type {\n",
       "        vertical-align: middle;\n",
       "    }\n",
       "\n",
       "    .dataframe tbody tr th {\n",
       "        vertical-align: top;\n",
       "    }\n",
       "\n",
       "    .dataframe thead th {\n",
       "        text-align: right;\n",
       "    }\n",
       "</style>\n",
       "<table border=\"1\" class=\"dataframe\">\n",
       "  <thead>\n",
       "    <tr style=\"text-align: right;\">\n",
       "      <th></th>\n",
       "      <th>id</th>\n",
       "      <th>listing_url</th>\n",
       "      <th>scrape_id</th>\n",
       "      <th>last_scraped</th>\n",
       "      <th>name</th>\n",
       "      <th>summary</th>\n",
       "      <th>space</th>\n",
       "      <th>description</th>\n",
       "      <th>experiences_offered</th>\n",
       "      <th>neighborhood_overview</th>\n",
       "      <th>...</th>\n",
       "      <th>Area_Leith</th>\n",
       "      <th>Area_Marchmont</th>\n",
       "      <th>Area_Morningside</th>\n",
       "      <th>Area_New Town</th>\n",
       "      <th>Area_Newington</th>\n",
       "      <th>Area_Old Town</th>\n",
       "      <th>Area_Southside</th>\n",
       "      <th>Area_Stockbridge</th>\n",
       "      <th>Area_Tollcross</th>\n",
       "      <th>Area_West End</th>\n",
       "    </tr>\n",
       "  </thead>\n",
       "  <tbody>\n",
       "    <tr>\n",
       "      <td>0</td>\n",
       "      <td>15420</td>\n",
       "      <td>https://www.airbnb.com/rooms/15420</td>\n",
       "      <td>20190625184115</td>\n",
       "      <td>2019-06-25</td>\n",
       "      <td>Georgian Boutique Apt City Centre</td>\n",
       "      <td>Stunning, impeccably refurbished spacious grou...</td>\n",
       "      <td>This is a huge and luxurious apartment for 2 -...</td>\n",
       "      <td>Stunning, impeccably refurbished spacious grou...</td>\n",
       "      <td>none</td>\n",
       "      <td>The neighbourhood is in the historic New Town,...</td>\n",
       "      <td>...</td>\n",
       "      <td>0</td>\n",
       "      <td>0</td>\n",
       "      <td>0</td>\n",
       "      <td>1</td>\n",
       "      <td>0</td>\n",
       "      <td>0</td>\n",
       "      <td>0</td>\n",
       "      <td>0</td>\n",
       "      <td>0</td>\n",
       "      <td>0</td>\n",
       "    </tr>\n",
       "    <tr>\n",
       "      <td>1</td>\n",
       "      <td>24288</td>\n",
       "      <td>https://www.airbnb.com/rooms/24288</td>\n",
       "      <td>20190625184115</td>\n",
       "      <td>2019-06-25</td>\n",
       "      <td>Cool central Loft, sleeps 4, 2 double bed+en-s...</td>\n",
       "      <td>Boho rustic-chic former warehouse Loft located...</td>\n",
       "      <td>Two bedroom, very central Loft apartment with ...</td>\n",
       "      <td>Boho rustic-chic former warehouse Loft located...</td>\n",
       "      <td>none</td>\n",
       "      <td>It's all in the mix: Culture-museums and galle...</td>\n",
       "      <td>...</td>\n",
       "      <td>0</td>\n",
       "      <td>0</td>\n",
       "      <td>0</td>\n",
       "      <td>0</td>\n",
       "      <td>0</td>\n",
       "      <td>0</td>\n",
       "      <td>1</td>\n",
       "      <td>0</td>\n",
       "      <td>0</td>\n",
       "      <td>0</td>\n",
       "    </tr>\n",
       "    <tr>\n",
       "      <td>2</td>\n",
       "      <td>38628</td>\n",
       "      <td>https://www.airbnb.com/rooms/38628</td>\n",
       "      <td>20190625184115</td>\n",
       "      <td>2019-06-26</td>\n",
       "      <td>Edinburgh Holiday Let</td>\n",
       "      <td>Brunstane - Daiches Braes (close to Portobello...</td>\n",
       "      <td>Check out (Website hidden by Airbnb)  Free Wi-...</td>\n",
       "      <td>Brunstane - Daiches Braes (close to Portobello...</td>\n",
       "      <td>none</td>\n",
       "      <td>Quiet and easy access to outside.</td>\n",
       "      <td>...</td>\n",
       "      <td>0</td>\n",
       "      <td>0</td>\n",
       "      <td>0</td>\n",
       "      <td>0</td>\n",
       "      <td>0</td>\n",
       "      <td>0</td>\n",
       "      <td>0</td>\n",
       "      <td>0</td>\n",
       "      <td>0</td>\n",
       "      <td>0</td>\n",
       "    </tr>\n",
       "    <tr>\n",
       "      <td>3</td>\n",
       "      <td>44552</td>\n",
       "      <td>https://www.airbnb.com/rooms/44552</td>\n",
       "      <td>20190625184115</td>\n",
       "      <td>2019-06-25</td>\n",
       "      <td>Double room - spacious Leith flat</td>\n",
       "      <td>Pleasant double room in 2 bedroom ground floor...</td>\n",
       "      <td>You will be staying in a pleasant double room ...</td>\n",
       "      <td>Pleasant double room in 2 bedroom ground floor...</td>\n",
       "      <td>none</td>\n",
       "      <td>NaN</td>\n",
       "      <td>...</td>\n",
       "      <td>1</td>\n",
       "      <td>0</td>\n",
       "      <td>0</td>\n",
       "      <td>0</td>\n",
       "      <td>0</td>\n",
       "      <td>0</td>\n",
       "      <td>0</td>\n",
       "      <td>0</td>\n",
       "      <td>0</td>\n",
       "      <td>0</td>\n",
       "    </tr>\n",
       "    <tr>\n",
       "      <td>4</td>\n",
       "      <td>47616</td>\n",
       "      <td>https://www.airbnb.com/rooms/47616</td>\n",
       "      <td>20190625184115</td>\n",
       "      <td>2019-06-25</td>\n",
       "      <td>City flat, close to nature and the Fringe</td>\n",
       "      <td>Annemarie &amp; I would like to welcome you to our...</td>\n",
       "      <td>The flat has two floors with bedrooms and bath...</td>\n",
       "      <td>Annemarie &amp; I would like to welcome you to our...</td>\n",
       "      <td>none</td>\n",
       "      <td>We're at the quiet end of a residential street...</td>\n",
       "      <td>...</td>\n",
       "      <td>0</td>\n",
       "      <td>0</td>\n",
       "      <td>0</td>\n",
       "      <td>0</td>\n",
       "      <td>0</td>\n",
       "      <td>0</td>\n",
       "      <td>1</td>\n",
       "      <td>0</td>\n",
       "      <td>0</td>\n",
       "      <td>0</td>\n",
       "    </tr>\n",
       "  </tbody>\n",
       "</table>\n",
       "<p>5 rows × 231 columns</p>\n",
       "</div>"
      ],
      "text/plain": [
       "      id                         listing_url       scrape_id last_scraped  \\\n",
       "0  15420  https://www.airbnb.com/rooms/15420  20190625184115   2019-06-25   \n",
       "1  24288  https://www.airbnb.com/rooms/24288  20190625184115   2019-06-25   \n",
       "2  38628  https://www.airbnb.com/rooms/38628  20190625184115   2019-06-26   \n",
       "3  44552  https://www.airbnb.com/rooms/44552  20190625184115   2019-06-25   \n",
       "4  47616  https://www.airbnb.com/rooms/47616  20190625184115   2019-06-25   \n",
       "\n",
       "                                                name  \\\n",
       "0                  Georgian Boutique Apt City Centre   \n",
       "1  Cool central Loft, sleeps 4, 2 double bed+en-s...   \n",
       "2                              Edinburgh Holiday Let   \n",
       "3                  Double room - spacious Leith flat   \n",
       "4          City flat, close to nature and the Fringe   \n",
       "\n",
       "                                             summary  \\\n",
       "0  Stunning, impeccably refurbished spacious grou...   \n",
       "1  Boho rustic-chic former warehouse Loft located...   \n",
       "2  Brunstane - Daiches Braes (close to Portobello...   \n",
       "3  Pleasant double room in 2 bedroom ground floor...   \n",
       "4  Annemarie & I would like to welcome you to our...   \n",
       "\n",
       "                                               space  \\\n",
       "0  This is a huge and luxurious apartment for 2 -...   \n",
       "1  Two bedroom, very central Loft apartment with ...   \n",
       "2  Check out (Website hidden by Airbnb)  Free Wi-...   \n",
       "3  You will be staying in a pleasant double room ...   \n",
       "4  The flat has two floors with bedrooms and bath...   \n",
       "\n",
       "                                         description experiences_offered  \\\n",
       "0  Stunning, impeccably refurbished spacious grou...                none   \n",
       "1  Boho rustic-chic former warehouse Loft located...                none   \n",
       "2  Brunstane - Daiches Braes (close to Portobello...                none   \n",
       "3  Pleasant double room in 2 bedroom ground floor...                none   \n",
       "4  Annemarie & I would like to welcome you to our...                none   \n",
       "\n",
       "                               neighborhood_overview  ... Area_Leith  \\\n",
       "0  The neighbourhood is in the historic New Town,...  ...          0   \n",
       "1  It's all in the mix: Culture-museums and galle...  ...          0   \n",
       "2                  Quiet and easy access to outside.  ...          0   \n",
       "3                                                NaN  ...          1   \n",
       "4  We're at the quiet end of a residential street...  ...          0   \n",
       "\n",
       "  Area_Marchmont Area_Morningside Area_New Town Area_Newington  Area_Old Town  \\\n",
       "0              0                0             1              0              0   \n",
       "1              0                0             0              0              0   \n",
       "2              0                0             0              0              0   \n",
       "3              0                0             0              0              0   \n",
       "4              0                0             0              0              0   \n",
       "\n",
       "   Area_Southside Area_Stockbridge  Area_Tollcross  Area_West End  \n",
       "0               0                0               0              0  \n",
       "1               1                0               0              0  \n",
       "2               0                0               0              0  \n",
       "3               0                0               0              0  \n",
       "4               1                0               0              0  \n",
       "\n",
       "[5 rows x 231 columns]"
      ]
     },
     "execution_count": 157,
     "metadata": {},
     "output_type": "execute_result"
    }
   ],
   "source": [
    "areas = pd.get_dummies(listings.neighbourhood, prefix='Area')\n",
    "areas['id'] = listings['id']\n",
    "listings = listings.merge(areas, on = 'id')\n",
    "listings.head()"
   ]
  },
  {
   "cell_type": "code",
   "execution_count": 158,
   "metadata": {},
   "outputs": [
    {
     "data": {
      "image/png": "[encoded data removed]",
      "text/plain": [
       "<Figure size 432x288 with 2 Axes>"
      ]
     },
     "metadata": {
      "needs_background": "light"
     },
     "output_type": "display_data"
    },
    {
     "data": {
      "text/html": [
       "<div>\n",
       "<style scoped>\n",
       "    .dataframe tbody tr th:only-of-type {\n",
       "        vertical-align: middle;\n",
       "    }\n",
       "\n",
       "    .dataframe tbody tr th {\n",
       "        vertical-align: top;\n",
       "    }\n",
       "\n",
       "    .dataframe thead th {\n",
       "        text-align: right;\n",
       "    }\n",
       "</style>\n",
       "<table border=\"1\" class=\"dataframe\">\n",
       "  <thead>\n",
       "    <tr style=\"text-align: right;\">\n",
       "      <th></th>\n",
       "      <th>price</th>\n",
       "      <th>price_pig</th>\n",
       "      <th>price_fullcap</th>\n",
       "      <th>Area_Bruntsfield</th>\n",
       "      <th>Area_Cannonmills</th>\n",
       "      <th>Area_Haymarket</th>\n",
       "      <th>Area_Leith</th>\n",
       "    </tr>\n",
       "  </thead>\n",
       "  <tbody>\n",
       "    <tr>\n",
       "      <td>price</td>\n",
       "      <td>1.000000</td>\n",
       "      <td>0.904882</td>\n",
       "      <td>0.997855</td>\n",
       "      <td>0.001359</td>\n",
       "      <td>-0.002134</td>\n",
       "      <td>-0.023506</td>\n",
       "      <td>-0.012336</td>\n",
       "    </tr>\n",
       "    <tr>\n",
       "      <td>price_pig</td>\n",
       "      <td>0.904882</td>\n",
       "      <td>1.000000</td>\n",
       "      <td>0.901401</td>\n",
       "      <td>0.003065</td>\n",
       "      <td>-0.006281</td>\n",
       "      <td>-0.022333</td>\n",
       "      <td>-0.004365</td>\n",
       "    </tr>\n",
       "    <tr>\n",
       "      <td>price_fullcap</td>\n",
       "      <td>0.997855</td>\n",
       "      <td>0.901401</td>\n",
       "      <td>1.000000</td>\n",
       "      <td>0.002240</td>\n",
       "      <td>-0.002878</td>\n",
       "      <td>-0.022864</td>\n",
       "      <td>-0.012856</td>\n",
       "    </tr>\n",
       "    <tr>\n",
       "      <td>Area_Bruntsfield</td>\n",
       "      <td>0.001359</td>\n",
       "      <td>0.003065</td>\n",
       "      <td>0.002240</td>\n",
       "      <td>1.000000</td>\n",
       "      <td>-0.029169</td>\n",
       "      <td>-0.043355</td>\n",
       "      <td>-0.083298</td>\n",
       "    </tr>\n",
       "    <tr>\n",
       "      <td>Area_Cannonmills</td>\n",
       "      <td>-0.002134</td>\n",
       "      <td>-0.006281</td>\n",
       "      <td>-0.002878</td>\n",
       "      <td>-0.029169</td>\n",
       "      <td>1.000000</td>\n",
       "      <td>-0.056494</td>\n",
       "      <td>-0.108542</td>\n",
       "    </tr>\n",
       "    <tr>\n",
       "      <td>Area_Haymarket</td>\n",
       "      <td>-0.023506</td>\n",
       "      <td>-0.022333</td>\n",
       "      <td>-0.022864</td>\n",
       "      <td>-0.043355</td>\n",
       "      <td>-0.056494</td>\n",
       "      <td>1.000000</td>\n",
       "      <td>-0.161327</td>\n",
       "    </tr>\n",
       "    <tr>\n",
       "      <td>Area_Leith</td>\n",
       "      <td>-0.012336</td>\n",
       "      <td>-0.004365</td>\n",
       "      <td>-0.012856</td>\n",
       "      <td>-0.083298</td>\n",
       "      <td>-0.108542</td>\n",
       "      <td>-0.161327</td>\n",
       "      <td>1.000000</td>\n",
       "    </tr>\n",
       "  </tbody>\n",
       "</table>\n",
       "</div>"
      ],
      "text/plain": [
       "                     price  price_pig  price_fullcap  Area_Bruntsfield  \\\n",
       "price             1.000000   0.904882       0.997855          0.001359   \n",
       "price_pig         0.904882   1.000000       0.901401          0.003065   \n",
       "price_fullcap     0.997855   0.901401       1.000000          0.002240   \n",
       "Area_Bruntsfield  0.001359   0.003065       0.002240          1.000000   \n",
       "Area_Cannonmills -0.002134  -0.006281      -0.002878         -0.029169   \n",
       "Area_Haymarket   -0.023506  -0.022333      -0.022864         -0.043355   \n",
       "Area_Leith       -0.012336  -0.004365      -0.012856         -0.083298   \n",
       "\n",
       "                  Area_Cannonmills  Area_Haymarket  Area_Leith  \n",
       "price                    -0.002134       -0.023506   -0.012336  \n",
       "price_pig                -0.006281       -0.022333   -0.004365  \n",
       "price_fullcap            -0.002878       -0.022864   -0.012856  \n",
       "Area_Bruntsfield         -0.029169       -0.043355   -0.083298  \n",
       "Area_Cannonmills          1.000000       -0.056494   -0.108542  \n",
       "Area_Haymarket           -0.056494        1.000000   -0.161327  \n",
       "Area_Leith               -0.108542       -0.161327    1.000000  "
      ]
     },
     "execution_count": 158,
     "metadata": {},
     "output_type": "execute_result"
    }
   ],
   "source": [
    "corrMatrix = listings[['price', 'price_pig', 'price_fullcap', 'Area_Bruntsfield', 'Area_Cannonmills', 'Area_Haymarket', 'Area_Leith']].corr()\n",
    "sn.heatmap(corrMatrix, annot=True)\n",
    "plt.show()\n",
    "corrMatrix"
   ]
  },
  {
   "cell_type": "code",
   "execution_count": null,
   "metadata": {},
   "outputs": [],
   "source": [
    "Look for associations between area and house type, amenities, etc "
   ]
  },
  {
   "cell_type": "code",
   "execution_count": null,
   "metadata": {},
   "outputs": [],
   "source": [
    "What Airbnbs are present in the datasets for both years?"
   ]
  },
  {
   "cell_type": "code",
   "execution_count": 243,
   "metadata": {},
   "outputs": [
    {
     "data": {
      "text/plain": [
       "f    9150\n",
       "t    4076\n",
       "Name: host_is_superhost, dtype: int64"
      ]
     },
     "execution_count": 243,
     "metadata": {},
     "output_type": "execute_result"
    }
   ],
   "source": [
    "listings.host_is_superhost.value_counts()"
   ]
  },
  {
   "cell_type": "markdown",
   "metadata": {},
   "source": [
    "Need to change this to a length of time. "
   ]
  },
  {
   "cell_type": "code",
   "execution_count": 244,
   "metadata": {},
   "outputs": [
    {
     "data": {
      "text/plain": [
       "2015-07-05    145\n",
       "2011-05-31     91\n",
       "2012-01-23     76\n",
       "2016-08-03     56\n",
       "2018-05-17     52\n",
       "             ... \n",
       "2011-11-04      1\n",
       "2018-03-10      1\n",
       "2012-07-26      1\n",
       "2015-09-24      1\n",
       "2012-01-15      1\n",
       "Name: host_since, Length: 2557, dtype: int64"
      ]
     },
     "execution_count": 244,
     "metadata": {},
     "output_type": "execute_result"
    }
   ],
   "source": [
    "listings.host_since.value_counts()"
   ]
  },
  {
   "cell_type": "markdown",
   "metadata": {},
   "source": [
    "Acceptance rate is empty. Response time is a categorical variable, response rate is a % (% of individuals responded to)."
   ]
  },
  {
   "cell_type": "code",
   "execution_count": 245,
   "metadata": {},
   "outputs": [
    {
     "data": {
      "text/plain": [
       "Series([], Name: host_acceptance_rate, dtype: int64)"
      ]
     },
     "execution_count": 245,
     "metadata": {},
     "output_type": "execute_result"
    }
   ],
   "source": [
    "listings.host_response_rate.value_counts()\n",
    "listings.host_response_time.value_counts()\n",
    "listings.host_acceptance_rate.value_counts()"
   ]
  },
  {
   "cell_type": "markdown",
   "metadata": {},
   "source": [
    "So few do not have profile pictures it's probably not useful. Lisence is also not useful. Host location may be informative."
   ]
  },
  {
   "cell_type": "code",
   "execution_count": 246,
   "metadata": {},
   "outputs": [
    {
     "data": {
      "text/plain": [
       "f    8551\n",
       "t    4675\n",
       "Name: host_identity_verified, dtype: int64"
      ]
     },
     "execution_count": 246,
     "metadata": {},
     "output_type": "execute_result"
    }
   ],
   "source": [
    "listings.host_location.value_counts()\n",
    "listings.host_has_profile_pic.value_counts()\n",
    "listings.host_identity_verified.value_counts()"
   ]
  },
  {
   "cell_type": "code",
   "execution_count": 248,
   "metadata": {},
   "outputs": [
    {
     "data": {
      "text/plain": [
       "1      5849\n",
       "0      4127\n",
       "2      1115\n",
       "3       441\n",
       "4       215\n",
       "5       161\n",
       "7       151\n",
       "135     135\n",
       "6       103\n",
       "90       90\n",
       "9        84\n",
       "14       84\n",
       "39       78\n",
       "65       74\n",
       "12       73\n",
       "27       54\n",
       "15       45\n",
       "10       42\n",
       "41       41\n",
       "11       33\n",
       "29       29\n",
       "23       29\n",
       "28       28\n",
       "25       25\n",
       "8        24\n",
       "19       22\n",
       "22       22\n",
       "20       21\n",
       "21       21\n",
       "16       16\n",
       "13       13\n",
       "Name: calculated_host_listings_count_entire_homes, dtype: int64"
      ]
     },
     "execution_count": 248,
     "metadata": {},
     "output_type": "execute_result"
    }
   ],
   "source": [
    "listings.calculated_host_listings_count_entire_homes.value_counts()"
   ]
  }
 ],
 "metadata": {
  "kernelspec": {
   "display_name": "Python 3",
   "language": "python",
   "name": "python3"
  },
  "language_info": {
   "codemirror_mode": {
    "name": "ipython",
    "version": 3
   },
   "file_extension": ".py",
   "mimetype": "text/x-python",
   "name": "python",
   "nbconvert_exporter": "python",
   "pygments_lexer": "ipython3",
   "version": "3.7.4"
  }
 },
 "nbformat": 4,
 "nbformat_minor": 2
}
