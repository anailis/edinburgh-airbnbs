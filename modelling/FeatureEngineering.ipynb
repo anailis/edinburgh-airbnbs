{
 "cells": [
  {
   "cell_type": "markdown",
   "metadata": {},
   "source": [
    "In this notebook, I create features for future use in modelling attempts."
   ]
  },
  {
   "cell_type": "code",
   "execution_count": 1,
   "metadata": {},
   "outputs": [],
   "source": [
    "import pandas as pd\n",
    "import numpy as np\n",
    "\n",
    "from sklearn.linear_model import LinearRegression\n",
    "from sklearn import decomposition\n",
    "from sklearn.decomposition import PCA\n",
    "from sklearn.preprocessing import StandardScaler\n",
    "from sklearn.model_selection import train_test_split\n",
    "from sklearn.metrics import mean_squared_error, r2_score\n",
    "\n",
    "import mca\n",
    "\n",
    "from pylab import rcParams\n",
    "import seaborn as sb\n",
    "import matplotlib.pyplot as plt"
   ]
  },
  {
   "cell_type": "code",
   "execution_count": 2,
   "metadata": {},
   "outputs": [],
   "source": [
    "%matplotlib inline\n",
    "rcParams['figure.figsize'] = 5, 4\n",
    "sb.set_style('whitegrid')"
   ]
  },
  {
   "cell_type": "code",
   "execution_count": 3,
   "metadata": {},
   "outputs": [
    {
     "name": "stdout",
     "output_type": "stream",
     "text": [
      "id\n",
      "listing_url\n",
      "scrape_id\n",
      "last_scraped\n",
      "summary\n",
      "space\n",
      "description\n",
      "neighborhood_overview\n",
      "notes\n",
      "transit\n",
      "house_rules\n",
      "picture_url\n",
      "host_id\n",
      "host_url\n",
      "host_since\n",
      "host_location\n",
      "host_about\n",
      "host_response_time\n",
      "host_response_rate\n",
      "host_is_superhost\n",
      "host_listings_count\n",
      "host_verifications\n",
      "host_has_profile_pic\n",
      "host_identity_verified\n",
      "street\n",
      "neighbourhood\n",
      "neighbourhood_cleansed\n",
      "smart_location\n",
      "country\n",
      "latitude\n",
      "longitude\n",
      "is_location_exact\n",
      "property_type\n",
      "room_type\n",
      "accommodates\n",
      "bathrooms\n",
      "bedrooms\n",
      "beds\n",
      "bed_type\n",
      "amenities\n",
      "price\n",
      "guests_included\n",
      "extra_people\n",
      "minimum_nights\n",
      "maximum_nights\n",
      "minimum_minimum_nights\n",
      "maximum_minimum_nights\n",
      "minimum_maximum_nights\n",
      "maximum_maximum_nights\n",
      "minimum_nights_avg_ntm\n",
      "maximum_nights_avg_ntm\n",
      "calendar_updated\n",
      "availability_30\n",
      "availability_60\n",
      "availability_90\n",
      "availability_365\n",
      "calendar_last_scraped\n",
      "number_of_reviews\n",
      "review_scores_rating\n",
      "review_scores_accuracy\n",
      "review_scores_cleanliness\n",
      "review_scores_checkin\n",
      "review_scores_communication\n",
      "review_scores_location\n",
      "review_scores_value\n",
      "requires_license\n",
      "instant_bookable\n",
      "is_business_travel_ready\n",
      "cancellation_policy\n",
      "require_guest_profile_picture\n",
      "require_guest_phone_verification\n",
      "calculated_host_listings_count\n",
      "calculated_host_listings_count_entire_homes\n",
      "calculated_host_listings_count_private_rooms\n",
      "calculated_host_listings_count_shared_rooms\n",
      "reviews_per_month\n",
      "price_pig\n",
      "price_fullcap\n",
      "security_deposit_required\n",
      "cleaning_fee_required\n",
      "ever_reviewed\n",
      "has_description\n",
      "has_space\n",
      "has_neighborhood_overview\n",
      "has_notes\n",
      "has_house_rules\n",
      "has_transit\n",
      "bath_bed_ratio\n",
      "real_bed\n",
      "pets\n",
      "first_aid\n",
      "hair_dryer\n",
      "smoke_detector\n",
      "co_detector\n",
      "cooking\n",
      "stove\n",
      "allday_checkin\n",
      "extra_bedding\n",
      "hangers\n",
      "iron\n",
      "no_stairs\n",
      "children\n",
      "aircon\n",
      "wifi\n",
      "essentials\n",
      "washer\n",
      "garden\n",
      "oven\n",
      "gym\n",
      "tv\n",
      "kitchen\n",
      "cable\n",
      "free_parking\n",
      "breakfast\n",
      "dishwasher\n",
      "crib\n",
      "workspace\n",
      "lift\n",
      "wheelchair_access\n",
      "balcony\n",
      "bathtub\n",
      "lugagge_dropoff\n",
      "self_checkin\n",
      "dryer\n",
      "waterfront\n",
      "fireplace\n",
      "high_chair\n",
      "hot_water\n",
      "microwave\n",
      "coffee\n",
      "house\n",
      "apartment\n",
      "hotel\n",
      "hostel\n",
      "other_property_type\n",
      "Area_Bruntsfield\n",
      "Area_Cannonmills\n",
      "Area_Haymarket\n",
      "Area_Leith\n",
      "Area_Marchmont\n",
      "Area_Morningside\n",
      "Area_New Town\n",
      "Area_Newington\n",
      "Area_Old Town\n",
      "Area_Southside\n",
      "Area_Stockbridge\n",
      "Area_Tollcross\n",
      "Area_West End\n",
      "host_in_edin\n"
     ]
    }
   ],
   "source": [
    "listings19 = pd.read_csv('../data19/listings2019_cleaned.csv')\n",
    "for col in listings19.columns:\n",
    "    print(col)"
   ]
  },
  {
   "cell_type": "code",
   "execution_count": 4,
   "metadata": {},
   "outputs": [],
   "source": [
    "X_binary = listings19[['oven','gym','tv','cable','free_parking','breakfast','real_bed',\n",
    "                        'pets','children','aircon','wifi','washer','garden','dishwasher',\n",
    "                        'crib','workspace','lift','wheelchair_access','balcony','bathtub',\n",
    "                        'lugagge_dropoff','self_checkin','dryer','waterfront','fireplace',\n",
    "                        'host_in_edin','Area_Bruntsfield','Area_Cannonmills','Area_Haymarket',\n",
    "                        'Area_Leith','Area_Marchmont','Area_Morningside','Area_New Town','Area_Newington',\n",
    "                        'Area_Old Town','Area_Southside','Area_Stockbridge','Area_Tollcross','Area_West End',\n",
    "                        'house','apartment','hotel','hostel','host_identity_verified',\n",
    "                         'host_has_profile_pic','host_is_superhost','other_property_type']]"
   ]
  },
  {
   "cell_type": "code",
   "execution_count": 5,
   "metadata": {},
   "outputs": [],
   "source": [
    "# drop any columns that are more than 90% just one or zero \n",
    "before = set(X_binary.columns)\n",
    "\n",
    "for column in X_binary:\n",
    "    percent1s = sum(X_binary[column])/len(X_binary.index) * 100\n",
    "    if (percent1s > 90) or (percent1s < 10):\n",
    "        X_binary = X_binary.drop(column, axis = 1)\n",
    "        \n",
    "        \n",
    "after = set(X_binary.columns)\n",
    "\n",
    "removed = list(before - after)"
   ]
  },
  {
   "cell_type": "code",
   "execution_count": 6,
   "metadata": {},
   "outputs": [],
   "source": [
    "# remove the uninformative columns from the original dataset\n",
    "\n",
    "listings19 = listings19.drop(removed, axis = 1)"
   ]
  },
  {
   "cell_type": "markdown",
   "metadata": {},
   "source": [
    "## Feature Selection\n",
    "\n",
    "### Principal Components Analysis \n",
    "\n",
    "#### Reviews\n",
    "\n",
    "Notes to self:\n",
    "-Very simple structure for picking the number of principal components to use (also use skree plot)\n",
    "-70 - 80% of the information\n",
    "-Correlation of factors with original variables\n",
    "\n",
    "I investigate the principal components of the reviews in an attempt to capture the main variance in review scores."
   ]
  },
  {
   "cell_type": "code",
   "execution_count": 7,
   "metadata": {},
   "outputs": [
    {
     "data": {
      "text/html": [
       "<div>\n",
       "<style scoped>\n",
       "    .dataframe tbody tr th:only-of-type {\n",
       "        vertical-align: middle;\n",
       "    }\n",
       "\n",
       "    .dataframe tbody tr th {\n",
       "        vertical-align: top;\n",
       "    }\n",
       "\n",
       "    .dataframe thead th {\n",
       "        text-align: right;\n",
       "    }\n",
       "</style>\n",
       "<table border=\"1\" class=\"dataframe\">\n",
       "  <thead>\n",
       "    <tr style=\"text-align: right;\">\n",
       "      <th></th>\n",
       "      <th>review_scores_rating</th>\n",
       "      <th>review_scores_accuracy</th>\n",
       "      <th>review_scores_cleanliness</th>\n",
       "      <th>review_scores_checkin</th>\n",
       "      <th>review_scores_communication</th>\n",
       "      <th>review_scores_location</th>\n",
       "      <th>review_scores_value</th>\n",
       "    </tr>\n",
       "  </thead>\n",
       "  <tbody>\n",
       "    <tr>\n",
       "      <td>0</td>\n",
       "      <td>99.0</td>\n",
       "      <td>10.0</td>\n",
       "      <td>10.0</td>\n",
       "      <td>10.0</td>\n",
       "      <td>10.0</td>\n",
       "      <td>10.0</td>\n",
       "      <td>10.0</td>\n",
       "    </tr>\n",
       "    <tr>\n",
       "      <td>1</td>\n",
       "      <td>92.0</td>\n",
       "      <td>10.0</td>\n",
       "      <td>9.0</td>\n",
       "      <td>10.0</td>\n",
       "      <td>10.0</td>\n",
       "      <td>10.0</td>\n",
       "      <td>9.0</td>\n",
       "    </tr>\n",
       "    <tr>\n",
       "      <td>2</td>\n",
       "      <td>93.0</td>\n",
       "      <td>10.0</td>\n",
       "      <td>10.0</td>\n",
       "      <td>10.0</td>\n",
       "      <td>10.0</td>\n",
       "      <td>9.0</td>\n",
       "      <td>10.0</td>\n",
       "    </tr>\n",
       "    <tr>\n",
       "      <td>3</td>\n",
       "      <td>98.0</td>\n",
       "      <td>10.0</td>\n",
       "      <td>10.0</td>\n",
       "      <td>10.0</td>\n",
       "      <td>10.0</td>\n",
       "      <td>10.0</td>\n",
       "      <td>10.0</td>\n",
       "    </tr>\n",
       "    <tr>\n",
       "      <td>4</td>\n",
       "      <td>97.0</td>\n",
       "      <td>10.0</td>\n",
       "      <td>10.0</td>\n",
       "      <td>10.0</td>\n",
       "      <td>10.0</td>\n",
       "      <td>10.0</td>\n",
       "      <td>10.0</td>\n",
       "    </tr>\n",
       "  </tbody>\n",
       "</table>\n",
       "</div>"
      ],
      "text/plain": [
       "   review_scores_rating  review_scores_accuracy  review_scores_cleanliness  \\\n",
       "0                  99.0                    10.0                       10.0   \n",
       "1                  92.0                    10.0                        9.0   \n",
       "2                  93.0                    10.0                       10.0   \n",
       "3                  98.0                    10.0                       10.0   \n",
       "4                  97.0                    10.0                       10.0   \n",
       "\n",
       "   review_scores_checkin  review_scores_communication  review_scores_location  \\\n",
       "0                   10.0                         10.0                    10.0   \n",
       "1                   10.0                         10.0                    10.0   \n",
       "2                   10.0                         10.0                     9.0   \n",
       "3                   10.0                         10.0                    10.0   \n",
       "4                   10.0                         10.0                    10.0   \n",
       "\n",
       "   review_scores_value  \n",
       "0                 10.0  \n",
       "1                  9.0  \n",
       "2                 10.0  \n",
       "3                 10.0  \n",
       "4                 10.0  "
      ]
     },
     "execution_count": 7,
     "metadata": {},
     "output_type": "execute_result"
    }
   ],
   "source": [
    "reviews = listings19[['review_scores_rating','review_scores_accuracy','review_scores_cleanliness',\n",
    "                          'review_scores_checkin','review_scores_communication','review_scores_location',\n",
    "                          'review_scores_value']]\n",
    "\n",
    "reviews.head()"
   ]
  },
  {
   "cell_type": "code",
   "execution_count": 8,
   "metadata": {},
   "outputs": [],
   "source": [
    "scaler = StandardScaler()\n",
    "scaled_reviews = scaler.fit_transform(reviews)"
   ]
  },
  {
   "cell_type": "code",
   "execution_count": 9,
   "metadata": {},
   "outputs": [
    {
     "data": {
      "text/plain": [
       "array([0.58429604, 0.11425823, 0.10484462, 0.05717805, 0.05424936,\n",
       "       0.05089143, 0.03428227])"
      ]
     },
     "execution_count": 9,
     "metadata": {},
     "output_type": "execute_result"
    }
   ],
   "source": [
    "pca = decomposition.PCA()\n",
    "review_pca = pca.fit_transform(scaled_reviews)\n",
    "\n",
    "pca.explained_variance_ratio_"
   ]
  },
  {
   "cell_type": "markdown",
   "metadata": {},
   "source": [
    "The first principal component appears to represent Airbnb's with unusually poor reviews in every category. This is interesting, because in the eda stage I observed that most Airbnbs actually received very good ratings in most categories. However, the review principal components still don't correlate very strongly with price. "
   ]
  },
  {
   "cell_type": "code",
   "execution_count": 10,
   "metadata": {},
   "outputs": [
    {
     "data": {
      "text/plain": [
       "<matplotlib.axes._subplots.AxesSubplot at 0x22ff5a33fc8>"
      ]
     },
     "execution_count": 10,
     "metadata": {},
     "output_type": "execute_result"
    },
    {
     "data": {
      "image/png": "[encoded data removed]",
      "text/plain": [
       "<Figure size 360x288 with 2 Axes>"
      ]
     },
     "metadata": {},
     "output_type": "display_data"
    }
   ],
   "source": [
    "comps = pd.DataFrame(pca.components_, columns=reviews.columns)\n",
    "comps\n",
    "\n",
    "sb.heatmap(comps, cmap=\"Reds\", annot=True)"
   ]
  },
  {
   "cell_type": "code",
   "execution_count": 11,
   "metadata": {},
   "outputs": [],
   "source": [
    "review_pcs = pd.DataFrame(data = review_pca, columns = ['review_pc%s' % num for num in range(7)])\n",
    "listings19 = pd.concat([review_pcs, listings19], axis = 1)"
   ]
  },
  {
   "cell_type": "code",
   "execution_count": 12,
   "metadata": {},
   "outputs": [
    {
     "data": {
      "image/png": "[encoded data removed]",
      "text/plain": [
       "<Figure size 360x288 with 2 Axes>"
      ]
     },
     "metadata": {},
     "output_type": "display_data"
    },
    {
     "data": {
      "text/html": [
       "<div>\n",
       "<style scoped>\n",
       "    .dataframe tbody tr th:only-of-type {\n",
       "        vertical-align: middle;\n",
       "    }\n",
       "\n",
       "    .dataframe tbody tr th {\n",
       "        vertical-align: top;\n",
       "    }\n",
       "\n",
       "    .dataframe thead th {\n",
       "        text-align: right;\n",
       "    }\n",
       "</style>\n",
       "<table border=\"1\" class=\"dataframe\">\n",
       "  <thead>\n",
       "    <tr style=\"text-align: right;\">\n",
       "      <th></th>\n",
       "      <th>price</th>\n",
       "      <th>price_pig</th>\n",
       "      <th>price_fullcap</th>\n",
       "      <th>review_pc0</th>\n",
       "      <th>review_pc1</th>\n",
       "      <th>review_pc2</th>\n",
       "    </tr>\n",
       "  </thead>\n",
       "  <tbody>\n",
       "    <tr>\n",
       "      <td>price</td>\n",
       "      <td>1.000000</td>\n",
       "      <td>0.802754</td>\n",
       "      <td>0.962600</td>\n",
       "      <td>-8.525416e-03</td>\n",
       "      <td>5.456811e-02</td>\n",
       "      <td>5.259676e-02</td>\n",
       "    </tr>\n",
       "    <tr>\n",
       "      <td>price_pig</td>\n",
       "      <td>0.802754</td>\n",
       "      <td>1.000000</td>\n",
       "      <td>0.734384</td>\n",
       "      <td>-2.141900e-02</td>\n",
       "      <td>4.466084e-02</td>\n",
       "      <td>3.181568e-02</td>\n",
       "    </tr>\n",
       "    <tr>\n",
       "      <td>price_fullcap</td>\n",
       "      <td>0.962600</td>\n",
       "      <td>0.734384</td>\n",
       "      <td>1.000000</td>\n",
       "      <td>8.743932e-05</td>\n",
       "      <td>5.280277e-02</td>\n",
       "      <td>5.934161e-02</td>\n",
       "    </tr>\n",
       "    <tr>\n",
       "      <td>review_pc0</td>\n",
       "      <td>-0.008525</td>\n",
       "      <td>-0.021419</td>\n",
       "      <td>0.000087</td>\n",
       "      <td>1.000000e+00</td>\n",
       "      <td>-4.096170e-16</td>\n",
       "      <td>-5.575965e-16</td>\n",
       "    </tr>\n",
       "    <tr>\n",
       "      <td>review_pc1</td>\n",
       "      <td>0.054568</td>\n",
       "      <td>0.044661</td>\n",
       "      <td>0.052803</td>\n",
       "      <td>-4.096170e-16</td>\n",
       "      <td>1.000000e+00</td>\n",
       "      <td>3.428265e-16</td>\n",
       "    </tr>\n",
       "    <tr>\n",
       "      <td>review_pc2</td>\n",
       "      <td>0.052597</td>\n",
       "      <td>0.031816</td>\n",
       "      <td>0.059342</td>\n",
       "      <td>-5.575965e-16</td>\n",
       "      <td>3.428265e-16</td>\n",
       "      <td>1.000000e+00</td>\n",
       "    </tr>\n",
       "  </tbody>\n",
       "</table>\n",
       "</div>"
      ],
      "text/plain": [
       "                  price  price_pig  price_fullcap    review_pc0    review_pc1  \\\n",
       "price          1.000000   0.802754       0.962600 -8.525416e-03  5.456811e-02   \n",
       "price_pig      0.802754   1.000000       0.734384 -2.141900e-02  4.466084e-02   \n",
       "price_fullcap  0.962600   0.734384       1.000000  8.743932e-05  5.280277e-02   \n",
       "review_pc0    -0.008525  -0.021419       0.000087  1.000000e+00 -4.096170e-16   \n",
       "review_pc1     0.054568   0.044661       0.052803 -4.096170e-16  1.000000e+00   \n",
       "review_pc2     0.052597   0.031816       0.059342 -5.575965e-16  3.428265e-16   \n",
       "\n",
       "                 review_pc2  \n",
       "price          5.259676e-02  \n",
       "price_pig      3.181568e-02  \n",
       "price_fullcap  5.934161e-02  \n",
       "review_pc0    -5.575965e-16  \n",
       "review_pc1     3.428265e-16  \n",
       "review_pc2     1.000000e+00  "
      ]
     },
     "execution_count": 12,
     "metadata": {},
     "output_type": "execute_result"
    }
   ],
   "source": [
    "corrMatrix = listings19[['price', 'price_pig', 'price_fullcap', 'review_pc0', 'review_pc1', 'review_pc2']].corr()\n",
    "sb.heatmap(corrMatrix, annot=True)\n",
    "plt.show()\n",
    "corrMatrix"
   ]
  },
  {
   "cell_type": "markdown",
   "metadata": {},
   "source": [
    "### Multiple Correspondence Analysis\n",
    "\n",
    "#### Amenities"
   ]
  },
  {
   "cell_type": "markdown",
   "metadata": {},
   "source": [
    "There are 15 amenities in the dataset which are encoded 1 for present and 0 for absent. I use multiple correspondence analysis (MCA) to reduce the dimensionality of these binary variables. The `mca` package gives 7 components describing these 15 features. The first component has a reasonably strong correlation with price (0.11)."
   ]
  },
  {
   "cell_type": "code",
   "execution_count": 13,
   "metadata": {},
   "outputs": [],
   "source": [
    "amenities = X_binary[['oven','tv','cable','free_parking','breakfast',\n",
    "                        'children','washer','garden','dishwasher',\n",
    "                        'workspace','lift',\n",
    "                        'lugagge_dropoff','self_checkin','dryer','fireplace']]\n",
    "\n",
    "mca_df = mca.MCA(amenities)"
   ]
  },
  {
   "cell_type": "code",
   "execution_count": 14,
   "metadata": {},
   "outputs": [
    {
     "data": {
      "text/plain": [
       "array([0.03410509, 0.02428855, 0.01583116, 0.00701056, 0.00576329,\n",
       "       0.00514845, 0.00442739, 0.00355117, 0.00331706, 0.00166202,\n",
       "       0.00123129])"
      ]
     },
     "execution_count": 14,
     "metadata": {},
     "output_type": "execute_result"
    }
   ],
   "source": [
    "# the eigenvalues: the proportion of variance accounted for by each factor \n",
    "mca_df.L"
   ]
  },
  {
   "cell_type": "code",
   "execution_count": 15,
   "metadata": {},
   "outputs": [
    {
     "data": {
      "text/plain": [
       "(10767, 7)"
      ]
     },
     "execution_count": 15,
     "metadata": {},
     "output_type": "execute_result"
    }
   ],
   "source": [
    "# corrections and thresholding leave us with 7 components\n",
    "mca_fsr = mca_df.fs_r()\n",
    "mca_fsr.shape"
   ]
  },
  {
   "cell_type": "code",
   "execution_count": 16,
   "metadata": {},
   "outputs": [],
   "source": [
    "amenities_mcs = pd.DataFrame(data = mca_fsr, columns = ['amenities_mc%s' % num for num in range(7)])\n",
    "listings19 = pd.concat([amenities_mcs, listings19], axis = 1)"
   ]
  },
  {
   "cell_type": "code",
   "execution_count": 17,
   "metadata": {},
   "outputs": [
    {
     "data": {
      "image/png": "[encoded data removed]",
      "text/plain": [
       "<Figure size 360x288 with 2 Axes>"
      ]
     },
     "metadata": {},
     "output_type": "display_data"
    },
    {
     "data": {
      "text/html": [
       "<div>\n",
       "<style scoped>\n",
       "    .dataframe tbody tr th:only-of-type {\n",
       "        vertical-align: middle;\n",
       "    }\n",
       "\n",
       "    .dataframe tbody tr th {\n",
       "        vertical-align: top;\n",
       "    }\n",
       "\n",
       "    .dataframe thead th {\n",
       "        text-align: right;\n",
       "    }\n",
       "</style>\n",
       "<table border=\"1\" class=\"dataframe\">\n",
       "  <thead>\n",
       "    <tr style=\"text-align: right;\">\n",
       "      <th></th>\n",
       "      <th>price</th>\n",
       "      <th>price_pig</th>\n",
       "      <th>price_fullcap</th>\n",
       "      <th>amenities_mc0</th>\n",
       "      <th>amenities_mc1</th>\n",
       "      <th>amenities_mc2</th>\n",
       "      <th>amenities_mc3</th>\n",
       "      <th>amenities_mc4</th>\n",
       "      <th>amenities_mc5</th>\n",
       "    </tr>\n",
       "  </thead>\n",
       "  <tbody>\n",
       "    <tr>\n",
       "      <td>price</td>\n",
       "      <td>1.000000</td>\n",
       "      <td>0.802754</td>\n",
       "      <td>0.962600</td>\n",
       "      <td>0.076719</td>\n",
       "      <td>0.110628</td>\n",
       "      <td>-0.089314</td>\n",
       "      <td>-0.070150</td>\n",
       "      <td>-0.096924</td>\n",
       "      <td>0.057476</td>\n",
       "    </tr>\n",
       "    <tr>\n",
       "      <td>price_pig</td>\n",
       "      <td>0.802754</td>\n",
       "      <td>1.000000</td>\n",
       "      <td>0.734384</td>\n",
       "      <td>-0.012732</td>\n",
       "      <td>0.077399</td>\n",
       "      <td>-0.083791</td>\n",
       "      <td>-0.083250</td>\n",
       "      <td>-0.107390</td>\n",
       "      <td>0.007859</td>\n",
       "    </tr>\n",
       "    <tr>\n",
       "      <td>price_fullcap</td>\n",
       "      <td>0.962600</td>\n",
       "      <td>0.734384</td>\n",
       "      <td>1.000000</td>\n",
       "      <td>0.090056</td>\n",
       "      <td>0.108316</td>\n",
       "      <td>-0.087395</td>\n",
       "      <td>-0.062592</td>\n",
       "      <td>-0.087114</td>\n",
       "      <td>0.064206</td>\n",
       "    </tr>\n",
       "    <tr>\n",
       "      <td>amenities_mc0</td>\n",
       "      <td>0.076719</td>\n",
       "      <td>-0.012732</td>\n",
       "      <td>0.090056</td>\n",
       "      <td>1.000000</td>\n",
       "      <td>0.168796</td>\n",
       "      <td>-0.118243</td>\n",
       "      <td>0.022917</td>\n",
       "      <td>0.001424</td>\n",
       "      <td>-0.005714</td>\n",
       "    </tr>\n",
       "    <tr>\n",
       "      <td>amenities_mc1</td>\n",
       "      <td>0.110628</td>\n",
       "      <td>0.077399</td>\n",
       "      <td>0.108316</td>\n",
       "      <td>0.168796</td>\n",
       "      <td>1.000000</td>\n",
       "      <td>-0.042838</td>\n",
       "      <td>-0.080080</td>\n",
       "      <td>0.098731</td>\n",
       "      <td>-0.021715</td>\n",
       "    </tr>\n",
       "    <tr>\n",
       "      <td>amenities_mc2</td>\n",
       "      <td>-0.089314</td>\n",
       "      <td>-0.083791</td>\n",
       "      <td>-0.087395</td>\n",
       "      <td>-0.118243</td>\n",
       "      <td>-0.042838</td>\n",
       "      <td>1.000000</td>\n",
       "      <td>-0.035733</td>\n",
       "      <td>-0.000522</td>\n",
       "      <td>0.029725</td>\n",
       "    </tr>\n",
       "    <tr>\n",
       "      <td>amenities_mc3</td>\n",
       "      <td>-0.070150</td>\n",
       "      <td>-0.083250</td>\n",
       "      <td>-0.062592</td>\n",
       "      <td>0.022917</td>\n",
       "      <td>-0.080080</td>\n",
       "      <td>-0.035733</td>\n",
       "      <td>1.000000</td>\n",
       "      <td>-0.060606</td>\n",
       "      <td>0.027919</td>\n",
       "    </tr>\n",
       "    <tr>\n",
       "      <td>amenities_mc4</td>\n",
       "      <td>-0.096924</td>\n",
       "      <td>-0.107390</td>\n",
       "      <td>-0.087114</td>\n",
       "      <td>0.001424</td>\n",
       "      <td>0.098731</td>\n",
       "      <td>-0.000522</td>\n",
       "      <td>-0.060606</td>\n",
       "      <td>1.000000</td>\n",
       "      <td>-0.020476</td>\n",
       "    </tr>\n",
       "    <tr>\n",
       "      <td>amenities_mc5</td>\n",
       "      <td>0.057476</td>\n",
       "      <td>0.007859</td>\n",
       "      <td>0.064206</td>\n",
       "      <td>-0.005714</td>\n",
       "      <td>-0.021715</td>\n",
       "      <td>0.029725</td>\n",
       "      <td>0.027919</td>\n",
       "      <td>-0.020476</td>\n",
       "      <td>1.000000</td>\n",
       "    </tr>\n",
       "  </tbody>\n",
       "</table>\n",
       "</div>"
      ],
      "text/plain": [
       "                  price  price_pig  price_fullcap  amenities_mc0  \\\n",
       "price          1.000000   0.802754       0.962600       0.076719   \n",
       "price_pig      0.802754   1.000000       0.734384      -0.012732   \n",
       "price_fullcap  0.962600   0.734384       1.000000       0.090056   \n",
       "amenities_mc0  0.076719  -0.012732       0.090056       1.000000   \n",
       "amenities_mc1  0.110628   0.077399       0.108316       0.168796   \n",
       "amenities_mc2 -0.089314  -0.083791      -0.087395      -0.118243   \n",
       "amenities_mc3 -0.070150  -0.083250      -0.062592       0.022917   \n",
       "amenities_mc4 -0.096924  -0.107390      -0.087114       0.001424   \n",
       "amenities_mc5  0.057476   0.007859       0.064206      -0.005714   \n",
       "\n",
       "               amenities_mc1  amenities_mc2  amenities_mc3  amenities_mc4  \\\n",
       "price               0.110628      -0.089314      -0.070150      -0.096924   \n",
       "price_pig           0.077399      -0.083791      -0.083250      -0.107390   \n",
       "price_fullcap       0.108316      -0.087395      -0.062592      -0.087114   \n",
       "amenities_mc0       0.168796      -0.118243       0.022917       0.001424   \n",
       "amenities_mc1       1.000000      -0.042838      -0.080080       0.098731   \n",
       "amenities_mc2      -0.042838       1.000000      -0.035733      -0.000522   \n",
       "amenities_mc3      -0.080080      -0.035733       1.000000      -0.060606   \n",
       "amenities_mc4       0.098731      -0.000522      -0.060606       1.000000   \n",
       "amenities_mc5      -0.021715       0.029725       0.027919      -0.020476   \n",
       "\n",
       "               amenities_mc5  \n",
       "price               0.057476  \n",
       "price_pig           0.007859  \n",
       "price_fullcap       0.064206  \n",
       "amenities_mc0      -0.005714  \n",
       "amenities_mc1      -0.021715  \n",
       "amenities_mc2       0.029725  \n",
       "amenities_mc3       0.027919  \n",
       "amenities_mc4      -0.020476  \n",
       "amenities_mc5       1.000000  "
      ]
     },
     "execution_count": 17,
     "metadata": {},
     "output_type": "execute_result"
    }
   ],
   "source": [
    "corrMatrix = listings19[['price', 'price_pig', 'price_fullcap', 'amenities_mc0', 'amenities_mc1',\n",
    "                         'amenities_mc2','amenities_mc3','amenities_mc4','amenities_mc5']].corr()\n",
    "sb.heatmap(corrMatrix, annot=True)\n",
    "plt.show()\n",
    "corrMatrix"
   ]
  },
  {
   "cell_type": "markdown",
   "metadata": {},
   "source": [
    "## Initial Modelling\n",
    "\n",
    "First I attempt a very simple linear regression. This has a coefficient of determination of 0.15."
   ]
  },
  {
   "cell_type": "code",
   "execution_count": 18,
   "metadata": {},
   "outputs": [],
   "source": [
    "listings19 = listings19.drop(['listing_url', 'scrape_id', 'last_scraped', 'summary', 'space', 'description', 'neighborhood_overview',\n",
    "                'notes', 'transit', 'house_rules', 'picture_url', 'host_url', 'host_about', 'street', 'country',\n",
    "                'calendar_last_scraped'], axis = 1)"
   ]
  },
  {
   "cell_type": "code",
   "execution_count": 19,
   "metadata": {},
   "outputs": [],
   "source": [
    "X_naive = listings19[['host_response_time', 'host_response_rate','host_listings_count',\n",
    "                          'latitude','longitude','bath_bed_ratio','host_in_edin','host_is_superhost','host_identity_verified',\n",
    "                          'apartment','amenities_mc1',\n",
    "                          'amenities_mc2','amenities_mc3','amenities_mc4','amenities_mc5',\n",
    "                          'Area_Leith','Area_Old Town','review_pc0', 'review_pc1', 'review_pc2']]\n",
    "\n",
    "X_naive = scaler.fit_transform(X_naive)\n",
    "\n",
    "y = scaler.fit_transform(np.array(listings19['price']).reshape(-1, 1))\n",
    "y = y.reshape(len(y),)\n",
    "\n",
    "X_train, X_test, y_train, y_test = train_test_split(X_naive, y, test_size=0.2, random_state=101)"
   ]
  },
  {
   "cell_type": "code",
   "execution_count": 20,
   "metadata": {},
   "outputs": [
    {
     "name": "stdout",
     "output_type": "stream",
     "text": [
      "Coefficients: \n",
      " [ 0.00982878 -0.04525735  0.03052356  0.07884531  0.02288136 -0.27526181\n",
      " -0.0453161  -0.05441603  0.01165675 -0.10110442  0.10534635 -0.0384574\n",
      " -0.0891784  -0.11115055  0.05473221 -0.15616722  0.05125039 -0.04357542\n",
      "  0.02052035  0.014518  ]\n",
      "Mean squared error: 0.82\n",
      "Coefficient of determination: 0.15\n"
     ]
    }
   ],
   "source": [
    "regr = LinearRegression()\n",
    "initial_fit = regr.fit(X_train, y_train)\n",
    "\n",
    "y_pred = initial_fit.predict(X_test)\n",
    "\n",
    "print('Coefficients: \\n', initial_fit.coef_)\n",
    "print('Mean squared error: %.2f'\n",
    "      % mean_squared_error(y_test, y_pred))\n",
    "print('Coefficient of determination: %.2f'\n",
    "      % r2_score(y_test, y_pred))"
   ]
  },
  {
   "cell_type": "code",
   "execution_count": 21,
   "metadata": {},
   "outputs": [],
   "source": [
    "# visualisation of predicted vs true price \n",
    "# comparison to 2020 data "
   ]
  },
  {
   "cell_type": "markdown",
   "metadata": {},
   "source": [
    "Now I compare the performance of the simple linear regression with the XGBoost algorithm. With the default values, performance is worse than with simple linear regression - the coefficient of determination is only 0.12. However, XGBoost has many hyperparameters that can be tuned to perhaps yield better performance. I played with these parameters but did not see any improvement in the model. "
   ]
  },
  {
   "cell_type": "code",
   "execution_count": 22,
   "metadata": {},
   "outputs": [],
   "source": [
    "import xgboost as xgb"
   ]
  },
  {
   "cell_type": "code",
   "execution_count": 23,
   "metadata": {},
   "outputs": [
    {
     "name": "stdout",
     "output_type": "stream",
     "text": [
      "[13:32:10] WARNING: src/objective/regression_obj.cu:152: reg:linear is now deprecated in favor of reg:squarederror.\n"
     ]
    }
   ],
   "source": [
    "xgb_reg = xgb.XGBRegressor(booster = \"gblinear\", random_state = 101)\n",
    "xgb_reg.fit(X_train, y_train)\n",
    "xgb_reg_pred = xgb_reg.predict(X_test)"
   ]
  },
  {
   "cell_type": "code",
   "execution_count": 24,
   "metadata": {},
   "outputs": [
    {
     "name": "stdout",
     "output_type": "stream",
     "text": [
      "Mean squared error: 0.85\n",
      "Coefficient of determination: 0.12\n"
     ]
    }
   ],
   "source": [
    "print('Mean squared error: %.2f'\n",
    "      % mean_squared_error(y_test, xgb_reg_pred))\n",
    "\n",
    "print('Coefficient of determination: %.2f'\n",
    "      % r2_score(y_test, xgb_reg_pred))"
   ]
  },
  {
   "cell_type": "code",
   "execution_count": 33,
   "metadata": {},
   "outputs": [
    {
     "name": "stdout",
     "output_type": "stream",
     "text": [
      "eta = 0.001\n",
      "[13:36:04] WARNING: src/objective/regression_obj.cu:152: reg:linear is now deprecated in favor of reg:squarederror.\n",
      "Mean squared error: 0.85\n",
      "Coefficient of determination: 0.12\n",
      "eta = 0.01\n",
      "[13:36:04] WARNING: src/objective/regression_obj.cu:152: reg:linear is now deprecated in favor of reg:squarederror.\n",
      "Mean squared error: 0.85\n",
      "Coefficient of determination: 0.12\n",
      "eta = 0.025\n",
      "[13:36:04] WARNING: src/objective/regression_obj.cu:152: reg:linear is now deprecated in favor of reg:squarederror.\n",
      "Mean squared error: 0.85\n",
      "Coefficient of determination: 0.12\n",
      "eta = 0.05\n",
      "[13:36:04] WARNING: src/objective/regression_obj.cu:152: reg:linear is now deprecated in favor of reg:squarederror.\n",
      "Mean squared error: 0.85\n",
      "Coefficient of determination: 0.12\n"
     ]
    }
   ],
   "source": [
    "for val in [0.001, 0.01, 0.025, 0.05]:\n",
    "    print(\"eta = \" + str(val))\n",
    "    xgb_reg = xgb.XGBRegressor(eta = val, max_depth = 100, booster = \"gblinear\", random_state = 101)\n",
    "    xgb_reg.fit(X_train, y_train)\n",
    "    xgb_reg_pred = xgb_reg.predict(X_test)\n",
    "\n",
    "    print('Mean squared error: %.2f'\n",
    "      % mean_squared_error(y_test, xgb_reg_pred))\n",
    "\n",
    "    print('Coefficient of determination: %.2f'\n",
    "      % r2_score(y_test, xgb_reg_pred))"
   ]
  }
 ],
 "metadata": {
  "kernelspec": {
   "display_name": "Python 3",
   "language": "python",
   "name": "python3"
  },
  "language_info": {
   "codemirror_mode": {
    "name": "ipython",
    "version": 3
   },
   "file_extension": ".py",
   "mimetype": "text/x-python",
   "name": "python",
   "nbconvert_exporter": "python",
   "pygments_lexer": "ipython3",
   "version": "3.7.4"
  }
 },
 "nbformat": 4,
 "nbformat_minor": 2
}
