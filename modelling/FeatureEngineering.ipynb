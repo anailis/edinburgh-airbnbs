{
 "cells": [
  {
   "cell_type": "markdown",
   "metadata": {},
   "source": [
    "In this notebook, I create features for future use in modelling attempts."
   ]
  },
  {
   "cell_type": "code",
   "execution_count": 219,
   "metadata": {},
   "outputs": [],
   "source": [
    "import pandas as pd\n",
    "import numpy as np\n",
    "\n",
    "from sklearn.linear_model import LinearRegression\n",
    "from sklearn import decomposition\n",
    "from sklearn.decomposition import PCA\n",
    "from sklearn.preprocessing import StandardScaler\n",
    "from sklearn.model_selection import train_test_split\n",
    "from sklearn.metrics import mean_squared_error, r2_score\n",
    "\n",
    "import mca\n",
    "\n",
    "from pylab import rcParams\n",
    "import seaborn as sb\n",
    "import matplotlib.pyplot as plt"
   ]
  },
  {
   "cell_type": "code",
   "execution_count": 186,
   "metadata": {},
   "outputs": [],
   "source": [
    "%matplotlib inline\n",
    "rcParams['figure.figsize'] = 5, 4\n",
    "sb.set_style('whitegrid')"
   ]
  },
  {
   "cell_type": "code",
   "execution_count": 187,
   "metadata": {},
   "outputs": [
    {
     "name": "stdout",
     "output_type": "stream",
     "text": [
      "id\n",
      "listing_url\n",
      "scrape_id\n",
      "last_scraped\n",
      "summary\n",
      "space\n",
      "description\n",
      "neighborhood_overview\n",
      "notes\n",
      "transit\n",
      "house_rules\n",
      "picture_url\n",
      "host_id\n",
      "host_url\n",
      "host_name\n",
      "host_since\n",
      "host_location\n",
      "host_about\n",
      "host_response_time\n",
      "host_response_rate\n",
      "host_is_superhost\n",
      "host_neighbourhood\n",
      "host_listings_count\n",
      "host_verifications\n",
      "host_has_profile_pic\n",
      "host_identity_verified\n",
      "street\n",
      "neighbourhood\n",
      "neighbourhood_cleansed\n",
      "smart_location\n",
      "country\n",
      "latitude\n",
      "longitude\n",
      "is_location_exact\n",
      "property_type\n",
      "room_type\n",
      "accommodates\n",
      "bathrooms\n",
      "bedrooms\n",
      "beds\n",
      "bed_type\n",
      "amenities\n",
      "price\n",
      "security_deposit\n",
      "cleaning_fee\n",
      "guests_included\n",
      "extra_people\n",
      "minimum_nights\n",
      "maximum_nights\n",
      "minimum_minimum_nights\n",
      "maximum_minimum_nights\n",
      "minimum_maximum_nights\n",
      "maximum_maximum_nights\n",
      "minimum_nights_avg_ntm\n",
      "maximum_nights_avg_ntm\n",
      "calendar_updated\n",
      "availability_30\n",
      "availability_60\n",
      "availability_90\n",
      "availability_365\n",
      "calendar_last_scraped\n",
      "number_of_reviews\n",
      "number_of_reviews_ltm\n",
      "first_review\n",
      "last_review\n",
      "review_scores_rating\n",
      "review_scores_accuracy\n",
      "review_scores_cleanliness\n",
      "review_scores_checkin\n",
      "review_scores_communication\n",
      "review_scores_location\n",
      "review_scores_value\n",
      "requires_license\n",
      "instant_bookable\n",
      "is_business_travel_ready\n",
      "cancellation_policy\n",
      "require_guest_profile_picture\n",
      "require_guest_phone_verification\n",
      "calculated_host_listings_count\n",
      "calculated_host_listings_count_entire_homes\n",
      "calculated_host_listings_count_private_rooms\n",
      "calculated_host_listings_count_shared_rooms\n",
      "reviews_per_month\n",
      "price_pig\n",
      "price_fullcap\n",
      "bath_bed_ratio\n",
      "real_bed\n",
      "pets\n",
      "children\n",
      "aircon\n",
      "wifi\n",
      "washer\n",
      "garden\n",
      "oven\n",
      "gym\n",
      "tv\n",
      "cable\n",
      "free_parking\n",
      "breakfast\n",
      "dishwasher\n",
      "crib\n",
      "workspace\n",
      "lift\n",
      "wheelchair_access\n",
      "balcony\n",
      "bathtub\n",
      "lugagge_dropoff\n",
      "self_checkin\n",
      "dryer\n",
      "waterfront\n",
      "fireplace\n",
      "house\n",
      "apartment\n",
      "hotel\n",
      "hostel\n",
      "other_property_type\n",
      "Area_Bruntsfield\n",
      "Area_Cannonmills\n",
      "Area_Haymarket\n",
      "Area_Leith\n",
      "Area_Marchmont\n",
      "Area_Morningside\n",
      "Area_New Town\n",
      "Area_Newington\n",
      "Area_Old Town\n",
      "Area_Southside\n",
      "Area_Stockbridge\n",
      "Area_Tollcross\n",
      "Area_West End\n",
      "host_in_edin\n"
     ]
    }
   ],
   "source": [
    "listings19 = pd.read_csv('data19/listings2019_cleaned.csv')\n",
    "for col in listings19.columns:\n",
    "    print(col)"
   ]
  },
  {
   "cell_type": "code",
   "execution_count": 188,
   "metadata": {},
   "outputs": [],
   "source": [
    "X_binary = listings19[['oven','gym','tv','cable','free_parking','breakfast','real_bed',\n",
    "                        'pets','children','aircon','wifi','washer','garden','dishwasher',\n",
    "                        'crib','workspace','lift','wheelchair_access','balcony','bathtub',\n",
    "                        'lugagge_dropoff','self_checkin','dryer','waterfront','fireplace',\n",
    "                        'Area_Bruntsfield','Area_Cannonmills','Area_Haymarket','host_in_edin',\n",
    "                        'Area_Leith','Area_Marchmont','Area_Morningside','Area_New Town','Area_Newington',\n",
    "                        'Area_Old Town','Area_Southside','Area_Stockbridge','Area_Tollcross','Area_West End',\n",
    "                        'house','apartment','hotel','hostel','host_identity_verified',\n",
    "                         'host_has_profile_pic','host_is_superhost','other_property_type']]"
   ]
  },
  {
   "cell_type": "markdown",
   "metadata": {},
   "source": [
    "## Feature Selection\n",
    "\n",
    "### Principal Components Analysis \n",
    "\n",
    "#### Reviews\n",
    "\n",
    "Notes to self:\n",
    "-Very simple structure for picking the number of principal components to use (also use skree plot)\n",
    "-70 - 80% of the information\n",
    "-Correlation of factors with original variables\n",
    "\n",
    "I investigate the principal components of the reviews in an attempt to capture the main variance in review scores."
   ]
  },
  {
   "cell_type": "code",
   "execution_count": 189,
   "metadata": {},
   "outputs": [
    {
     "data": {
      "text/html": [
       "<div>\n",
       "<style scoped>\n",
       "    .dataframe tbody tr th:only-of-type {\n",
       "        vertical-align: middle;\n",
       "    }\n",
       "\n",
       "    .dataframe tbody tr th {\n",
       "        vertical-align: top;\n",
       "    }\n",
       "\n",
       "    .dataframe thead th {\n",
       "        text-align: right;\n",
       "    }\n",
       "</style>\n",
       "<table border=\"1\" class=\"dataframe\">\n",
       "  <thead>\n",
       "    <tr style=\"text-align: right;\">\n",
       "      <th></th>\n",
       "      <th>review_scores_rating</th>\n",
       "      <th>review_scores_accuracy</th>\n",
       "      <th>review_scores_cleanliness</th>\n",
       "      <th>review_scores_checkin</th>\n",
       "      <th>review_scores_communication</th>\n",
       "      <th>review_scores_location</th>\n",
       "      <th>review_scores_value</th>\n",
       "    </tr>\n",
       "  </thead>\n",
       "  <tbody>\n",
       "    <tr>\n",
       "      <td>0</td>\n",
       "      <td>99.0</td>\n",
       "      <td>10.0</td>\n",
       "      <td>10.0</td>\n",
       "      <td>10.0</td>\n",
       "      <td>10.0</td>\n",
       "      <td>10.0</td>\n",
       "      <td>10.0</td>\n",
       "    </tr>\n",
       "    <tr>\n",
       "      <td>1</td>\n",
       "      <td>92.0</td>\n",
       "      <td>10.0</td>\n",
       "      <td>9.0</td>\n",
       "      <td>10.0</td>\n",
       "      <td>10.0</td>\n",
       "      <td>10.0</td>\n",
       "      <td>9.0</td>\n",
       "    </tr>\n",
       "    <tr>\n",
       "      <td>2</td>\n",
       "      <td>93.0</td>\n",
       "      <td>10.0</td>\n",
       "      <td>10.0</td>\n",
       "      <td>10.0</td>\n",
       "      <td>10.0</td>\n",
       "      <td>9.0</td>\n",
       "      <td>10.0</td>\n",
       "    </tr>\n",
       "    <tr>\n",
       "      <td>3</td>\n",
       "      <td>98.0</td>\n",
       "      <td>10.0</td>\n",
       "      <td>10.0</td>\n",
       "      <td>10.0</td>\n",
       "      <td>10.0</td>\n",
       "      <td>10.0</td>\n",
       "      <td>10.0</td>\n",
       "    </tr>\n",
       "    <tr>\n",
       "      <td>4</td>\n",
       "      <td>97.0</td>\n",
       "      <td>10.0</td>\n",
       "      <td>10.0</td>\n",
       "      <td>10.0</td>\n",
       "      <td>10.0</td>\n",
       "      <td>10.0</td>\n",
       "      <td>10.0</td>\n",
       "    </tr>\n",
       "  </tbody>\n",
       "</table>\n",
       "</div>"
      ],
      "text/plain": [
       "   review_scores_rating  review_scores_accuracy  review_scores_cleanliness  \\\n",
       "0                  99.0                    10.0                       10.0   \n",
       "1                  92.0                    10.0                        9.0   \n",
       "2                  93.0                    10.0                       10.0   \n",
       "3                  98.0                    10.0                       10.0   \n",
       "4                  97.0                    10.0                       10.0   \n",
       "\n",
       "   review_scores_checkin  review_scores_communication  review_scores_location  \\\n",
       "0                   10.0                         10.0                    10.0   \n",
       "1                   10.0                         10.0                    10.0   \n",
       "2                   10.0                         10.0                     9.0   \n",
       "3                   10.0                         10.0                    10.0   \n",
       "4                   10.0                         10.0                    10.0   \n",
       "\n",
       "   review_scores_value  \n",
       "0                 10.0  \n",
       "1                  9.0  \n",
       "2                 10.0  \n",
       "3                 10.0  \n",
       "4                 10.0  "
      ]
     },
     "execution_count": 189,
     "metadata": {},
     "output_type": "execute_result"
    }
   ],
   "source": [
    "reviews = listings19[['review_scores_rating','review_scores_accuracy','review_scores_cleanliness',\n",
    "                          'review_scores_checkin','review_scores_communication','review_scores_location',\n",
    "                          'review_scores_value']]\n",
    "\n",
    "reviews.head()"
   ]
  },
  {
   "cell_type": "code",
   "execution_count": 190,
   "metadata": {},
   "outputs": [],
   "source": [
    "scaler = StandardScaler()\n",
    "scaled_reviews = scaler.fit_transform(reviews)"
   ]
  },
  {
   "cell_type": "code",
   "execution_count": 191,
   "metadata": {},
   "outputs": [
    {
     "data": {
      "text/plain": [
       "array([0.58429604, 0.11425823, 0.10484462, 0.05717805, 0.05424936,\n",
       "       0.05089143, 0.03428227])"
      ]
     },
     "execution_count": 191,
     "metadata": {},
     "output_type": "execute_result"
    }
   ],
   "source": [
    "pca = decomposition.PCA()\n",
    "review_pca = pca.fit_transform(scaled_reviews)\n",
    "\n",
    "pca.explained_variance_ratio_"
   ]
  },
  {
   "cell_type": "markdown",
   "metadata": {},
   "source": [
    "The first principal component appears to represent Airbnb's with unusually poor reviews in every category. This is interesting, because in the eda stage I observed that most Airbnbs actually received very good ratings in most categories. However, the review principal components still don't correlate very strongly with price. "
   ]
  },
  {
   "cell_type": "code",
   "execution_count": 192,
   "metadata": {},
   "outputs": [
    {
     "data": {
      "text/plain": [
       "<matplotlib.axes._subplots.AxesSubplot at 0x1ab3fa51688>"
      ]
     },
     "execution_count": 192,
     "metadata": {},
     "output_type": "execute_result"
    },
    {
     "data": {
      "image/png": "[encoded data removed]",
      "text/plain": [
       "<Figure size 360x288 with 2 Axes>"
      ]
     },
     "metadata": {},
     "output_type": "display_data"
    }
   ],
   "source": [
    "comps = pd.DataFrame(pca.components_, columns=reviews.columns)\n",
    "comps\n",
    "\n",
    "sb.heatmap(comps, cmap=\"Reds\", annot=True)"
   ]
  },
  {
   "cell_type": "code",
   "execution_count": 193,
   "metadata": {},
   "outputs": [],
   "source": [
    "review_pcs = pd.DataFrame(data = review_pca, columns = ['review_pc%s' % num for num in range(7)])\n",
    "listings19 = pd.concat([review_pcs, listings19], axis = 1)"
   ]
  },
  {
   "cell_type": "code",
   "execution_count": 194,
   "metadata": {},
   "outputs": [
    {
     "data": {
      "image/png": "[encoded data removed]",
      "text/plain": [
       "<Figure size 360x288 with 2 Axes>"
      ]
     },
     "metadata": {},
     "output_type": "display_data"
    },
    {
     "data": {
      "text/html": [
       "<div>\n",
       "<style scoped>\n",
       "    .dataframe tbody tr th:only-of-type {\n",
       "        vertical-align: middle;\n",
       "    }\n",
       "\n",
       "    .dataframe tbody tr th {\n",
       "        vertical-align: top;\n",
       "    }\n",
       "\n",
       "    .dataframe thead th {\n",
       "        text-align: right;\n",
       "    }\n",
       "</style>\n",
       "<table border=\"1\" class=\"dataframe\">\n",
       "  <thead>\n",
       "    <tr style=\"text-align: right;\">\n",
       "      <th></th>\n",
       "      <th>price</th>\n",
       "      <th>price_pig</th>\n",
       "      <th>price_fullcap</th>\n",
       "      <th>review_pc0</th>\n",
       "      <th>review_pc1</th>\n",
       "      <th>review_pc2</th>\n",
       "    </tr>\n",
       "  </thead>\n",
       "  <tbody>\n",
       "    <tr>\n",
       "      <td>price</td>\n",
       "      <td>1.000000</td>\n",
       "      <td>0.802754</td>\n",
       "      <td>0.962600</td>\n",
       "      <td>-8.525416e-03</td>\n",
       "      <td>5.456811e-02</td>\n",
       "      <td>5.259676e-02</td>\n",
       "    </tr>\n",
       "    <tr>\n",
       "      <td>price_pig</td>\n",
       "      <td>0.802754</td>\n",
       "      <td>1.000000</td>\n",
       "      <td>0.734384</td>\n",
       "      <td>-2.141900e-02</td>\n",
       "      <td>4.466084e-02</td>\n",
       "      <td>3.181568e-02</td>\n",
       "    </tr>\n",
       "    <tr>\n",
       "      <td>price_fullcap</td>\n",
       "      <td>0.962600</td>\n",
       "      <td>0.734384</td>\n",
       "      <td>1.000000</td>\n",
       "      <td>8.743932e-05</td>\n",
       "      <td>5.280277e-02</td>\n",
       "      <td>5.934161e-02</td>\n",
       "    </tr>\n",
       "    <tr>\n",
       "      <td>review_pc0</td>\n",
       "      <td>-0.008525</td>\n",
       "      <td>-0.021419</td>\n",
       "      <td>0.000087</td>\n",
       "      <td>1.000000e+00</td>\n",
       "      <td>-4.096170e-16</td>\n",
       "      <td>-5.575965e-16</td>\n",
       "    </tr>\n",
       "    <tr>\n",
       "      <td>review_pc1</td>\n",
       "      <td>0.054568</td>\n",
       "      <td>0.044661</td>\n",
       "      <td>0.052803</td>\n",
       "      <td>-4.096170e-16</td>\n",
       "      <td>1.000000e+00</td>\n",
       "      <td>3.428265e-16</td>\n",
       "    </tr>\n",
       "    <tr>\n",
       "      <td>review_pc2</td>\n",
       "      <td>0.052597</td>\n",
       "      <td>0.031816</td>\n",
       "      <td>0.059342</td>\n",
       "      <td>-5.575965e-16</td>\n",
       "      <td>3.428265e-16</td>\n",
       "      <td>1.000000e+00</td>\n",
       "    </tr>\n",
       "  </tbody>\n",
       "</table>\n",
       "</div>"
      ],
      "text/plain": [
       "                  price  price_pig  price_fullcap    review_pc0    review_pc1  \\\n",
       "price          1.000000   0.802754       0.962600 -8.525416e-03  5.456811e-02   \n",
       "price_pig      0.802754   1.000000       0.734384 -2.141900e-02  4.466084e-02   \n",
       "price_fullcap  0.962600   0.734384       1.000000  8.743932e-05  5.280277e-02   \n",
       "review_pc0    -0.008525  -0.021419       0.000087  1.000000e+00 -4.096170e-16   \n",
       "review_pc1     0.054568   0.044661       0.052803 -4.096170e-16  1.000000e+00   \n",
       "review_pc2     0.052597   0.031816       0.059342 -5.575965e-16  3.428265e-16   \n",
       "\n",
       "                 review_pc2  \n",
       "price          5.259676e-02  \n",
       "price_pig      3.181568e-02  \n",
       "price_fullcap  5.934161e-02  \n",
       "review_pc0    -5.575965e-16  \n",
       "review_pc1     3.428265e-16  \n",
       "review_pc2     1.000000e+00  "
      ]
     },
     "execution_count": 194,
     "metadata": {},
     "output_type": "execute_result"
    }
   ],
   "source": [
    "corrMatrix = listings19[['price', 'price_pig', 'price_fullcap', 'review_pc0', 'review_pc1', 'review_pc2']].corr()\n",
    "sb.heatmap(corrMatrix, annot=True)\n",
    "plt.show()\n",
    "corrMatrix"
   ]
  },
  {
   "cell_type": "markdown",
   "metadata": {},
   "source": [
    "### Multiple Correspondence Analysis\n",
    "\n",
    "#### Amenities"
   ]
  },
  {
   "cell_type": "markdown",
   "metadata": {},
   "source": [
    "There are 25 amenities in the dataset which are encoded 1 for present and 0 for absent. I use multiple correspondence analysis (MCA) to reduce the dimensionality of these binary variables. The `mca` package gives 13 components describing these 25 features. The strongest correlations with price observed for the raw variables was 0.01. The components here do not fare much better - the strongest correlations are around 0.11."
   ]
  },
  {
   "cell_type": "code",
   "execution_count": 195,
   "metadata": {},
   "outputs": [],
   "source": [
    "amenities = listings19[['oven','gym','tv','cable','free_parking','breakfast','real_bed',\n",
    "                        'pets','children','aircon','wifi','washer','garden','dishwasher',\n",
    "                        'crib','workspace','lift','wheelchair_access','balcony','bathtub',\n",
    "                        'lugagge_dropoff','self_checkin','dryer','waterfront','fireplace']]\n",
    "\n",
    "mca_df = mca.MCA(amenities)"
   ]
  },
  {
   "cell_type": "code",
   "execution_count": 196,
   "metadata": {},
   "outputs": [
    {
     "data": {
      "text/plain": [
       "array([0.02197494, 0.01467273, 0.00951013, 0.00827244, 0.00738156,\n",
       "       0.0052432 , 0.00458553, 0.00403974, 0.00361228, 0.0032955 ,\n",
       "       0.00278323, 0.00248064, 0.0022101 , 0.00179679, 0.00154741,\n",
       "       0.00141766, 0.00116141, 0.00092939, 0.00087299])"
      ]
     },
     "execution_count": 196,
     "metadata": {},
     "output_type": "execute_result"
    }
   ],
   "source": [
    "# the eigenvalues: the proportion of variance accounted for by each factor \n",
    "mca_df.L"
   ]
  },
  {
   "cell_type": "code",
   "execution_count": 197,
   "metadata": {},
   "outputs": [
    {
     "data": {
      "text/plain": [
       "(10767, 13)"
      ]
     },
     "execution_count": 197,
     "metadata": {},
     "output_type": "execute_result"
    }
   ],
   "source": [
    "# corrections and thresholding leave us with 13 components\n",
    "mca_fsr = mca_df.fs_r()\n",
    "mca_fsr.shape"
   ]
  },
  {
   "cell_type": "code",
   "execution_count": 198,
   "metadata": {},
   "outputs": [],
   "source": [
    "amenities_mcs = pd.DataFrame(data = mca_fsr, columns = ['amenities_mc%s' % num for num in range(13)])\n",
    "listings19 = pd.concat([amenities_mcs, listings19], axis = 1)"
   ]
  },
  {
   "cell_type": "code",
   "execution_count": 199,
   "metadata": {},
   "outputs": [
    {
     "data": {
      "image/png": "[encoded data removed]",
      "text/plain": [
       "<Figure size 360x288 with 2 Axes>"
      ]
     },
     "metadata": {},
     "output_type": "display_data"
    },
    {
     "data": {
      "text/html": [
       "<div>\n",
       "<style scoped>\n",
       "    .dataframe tbody tr th:only-of-type {\n",
       "        vertical-align: middle;\n",
       "    }\n",
       "\n",
       "    .dataframe tbody tr th {\n",
       "        vertical-align: top;\n",
       "    }\n",
       "\n",
       "    .dataframe thead th {\n",
       "        text-align: right;\n",
       "    }\n",
       "</style>\n",
       "<table border=\"1\" class=\"dataframe\">\n",
       "  <thead>\n",
       "    <tr style=\"text-align: right;\">\n",
       "      <th></th>\n",
       "      <th>price</th>\n",
       "      <th>price_pig</th>\n",
       "      <th>price_fullcap</th>\n",
       "      <th>amenities_mc0</th>\n",
       "      <th>amenities_mc1</th>\n",
       "      <th>amenities_mc2</th>\n",
       "      <th>amenities_mc3</th>\n",
       "      <th>amenities_mc4</th>\n",
       "      <th>amenities_mc5</th>\n",
       "    </tr>\n",
       "  </thead>\n",
       "  <tbody>\n",
       "    <tr>\n",
       "      <td>price</td>\n",
       "      <td>1.000000</td>\n",
       "      <td>0.802754</td>\n",
       "      <td>0.962600</td>\n",
       "      <td>0.073569</td>\n",
       "      <td>-0.062132</td>\n",
       "      <td>0.125290</td>\n",
       "      <td>-0.112158</td>\n",
       "      <td>0.014898</td>\n",
       "      <td>-0.073988</td>\n",
       "    </tr>\n",
       "    <tr>\n",
       "      <td>price_pig</td>\n",
       "      <td>0.802754</td>\n",
       "      <td>1.000000</td>\n",
       "      <td>0.734384</td>\n",
       "      <td>-0.046254</td>\n",
       "      <td>-0.014923</td>\n",
       "      <td>0.069820</td>\n",
       "      <td>-0.081954</td>\n",
       "      <td>0.001713</td>\n",
       "      <td>-0.016804</td>\n",
       "    </tr>\n",
       "    <tr>\n",
       "      <td>price_fullcap</td>\n",
       "      <td>0.962600</td>\n",
       "      <td>0.734384</td>\n",
       "      <td>1.000000</td>\n",
       "      <td>0.091781</td>\n",
       "      <td>-0.064684</td>\n",
       "      <td>0.126373</td>\n",
       "      <td>-0.115670</td>\n",
       "      <td>0.022650</td>\n",
       "      <td>-0.080767</td>\n",
       "    </tr>\n",
       "    <tr>\n",
       "      <td>amenities_mc0</td>\n",
       "      <td>0.073569</td>\n",
       "      <td>-0.046254</td>\n",
       "      <td>0.091781</td>\n",
       "      <td>1.000000</td>\n",
       "      <td>-0.014638</td>\n",
       "      <td>0.075660</td>\n",
       "      <td>-0.017167</td>\n",
       "      <td>0.012440</td>\n",
       "      <td>-0.014567</td>\n",
       "    </tr>\n",
       "    <tr>\n",
       "      <td>amenities_mc1</td>\n",
       "      <td>-0.062132</td>\n",
       "      <td>-0.014923</td>\n",
       "      <td>-0.064684</td>\n",
       "      <td>-0.014638</td>\n",
       "      <td>1.000000</td>\n",
       "      <td>-0.031363</td>\n",
       "      <td>0.034042</td>\n",
       "      <td>0.006636</td>\n",
       "      <td>-0.008290</td>\n",
       "    </tr>\n",
       "    <tr>\n",
       "      <td>amenities_mc2</td>\n",
       "      <td>0.125290</td>\n",
       "      <td>0.069820</td>\n",
       "      <td>0.126373</td>\n",
       "      <td>0.075660</td>\n",
       "      <td>-0.031363</td>\n",
       "      <td>1.000000</td>\n",
       "      <td>-0.001219</td>\n",
       "      <td>0.009433</td>\n",
       "      <td>0.052286</td>\n",
       "    </tr>\n",
       "    <tr>\n",
       "      <td>amenities_mc3</td>\n",
       "      <td>-0.112158</td>\n",
       "      <td>-0.081954</td>\n",
       "      <td>-0.115670</td>\n",
       "      <td>-0.017167</td>\n",
       "      <td>0.034042</td>\n",
       "      <td>-0.001219</td>\n",
       "      <td>1.000000</td>\n",
       "      <td>0.000571</td>\n",
       "      <td>-0.045050</td>\n",
       "    </tr>\n",
       "    <tr>\n",
       "      <td>amenities_mc4</td>\n",
       "      <td>0.014898</td>\n",
       "      <td>0.001713</td>\n",
       "      <td>0.022650</td>\n",
       "      <td>0.012440</td>\n",
       "      <td>0.006636</td>\n",
       "      <td>0.009433</td>\n",
       "      <td>0.000571</td>\n",
       "      <td>1.000000</td>\n",
       "      <td>0.051489</td>\n",
       "    </tr>\n",
       "    <tr>\n",
       "      <td>amenities_mc5</td>\n",
       "      <td>-0.073988</td>\n",
       "      <td>-0.016804</td>\n",
       "      <td>-0.080767</td>\n",
       "      <td>-0.014567</td>\n",
       "      <td>-0.008290</td>\n",
       "      <td>0.052286</td>\n",
       "      <td>-0.045050</td>\n",
       "      <td>0.051489</td>\n",
       "      <td>1.000000</td>\n",
       "    </tr>\n",
       "  </tbody>\n",
       "</table>\n",
       "</div>"
      ],
      "text/plain": [
       "                  price  price_pig  price_fullcap  amenities_mc0  \\\n",
       "price          1.000000   0.802754       0.962600       0.073569   \n",
       "price_pig      0.802754   1.000000       0.734384      -0.046254   \n",
       "price_fullcap  0.962600   0.734384       1.000000       0.091781   \n",
       "amenities_mc0  0.073569  -0.046254       0.091781       1.000000   \n",
       "amenities_mc1 -0.062132  -0.014923      -0.064684      -0.014638   \n",
       "amenities_mc2  0.125290   0.069820       0.126373       0.075660   \n",
       "amenities_mc3 -0.112158  -0.081954      -0.115670      -0.017167   \n",
       "amenities_mc4  0.014898   0.001713       0.022650       0.012440   \n",
       "amenities_mc5 -0.073988  -0.016804      -0.080767      -0.014567   \n",
       "\n",
       "               amenities_mc1  amenities_mc2  amenities_mc3  amenities_mc4  \\\n",
       "price              -0.062132       0.125290      -0.112158       0.014898   \n",
       "price_pig          -0.014923       0.069820      -0.081954       0.001713   \n",
       "price_fullcap      -0.064684       0.126373      -0.115670       0.022650   \n",
       "amenities_mc0      -0.014638       0.075660      -0.017167       0.012440   \n",
       "amenities_mc1       1.000000      -0.031363       0.034042       0.006636   \n",
       "amenities_mc2      -0.031363       1.000000      -0.001219       0.009433   \n",
       "amenities_mc3       0.034042      -0.001219       1.000000       0.000571   \n",
       "amenities_mc4       0.006636       0.009433       0.000571       1.000000   \n",
       "amenities_mc5      -0.008290       0.052286      -0.045050       0.051489   \n",
       "\n",
       "               amenities_mc5  \n",
       "price              -0.073988  \n",
       "price_pig          -0.016804  \n",
       "price_fullcap      -0.080767  \n",
       "amenities_mc0      -0.014567  \n",
       "amenities_mc1      -0.008290  \n",
       "amenities_mc2       0.052286  \n",
       "amenities_mc3      -0.045050  \n",
       "amenities_mc4       0.051489  \n",
       "amenities_mc5       1.000000  "
      ]
     },
     "execution_count": 199,
     "metadata": {},
     "output_type": "execute_result"
    }
   ],
   "source": [
    "corrMatrix = listings19[['price', 'price_pig', 'price_fullcap', 'amenities_mc0', 'amenities_mc1',\n",
    "                         'amenities_mc2','amenities_mc3','amenities_mc4','amenities_mc5']].corr()\n",
    "sb.heatmap(corrMatrix, annot=True)\n",
    "plt.show()\n",
    "corrMatrix"
   ]
  },
  {
   "cell_type": "markdown",
   "metadata": {},
   "source": [
    "## LASSO for Feature Selection\n",
    "\n",
    "I begin with a naive model that uses all of the suspected predictors. In LASSO, two of these predictors have their coefficients set to 0: `host_is_superhost` and `host_identity_verified`. I drop these two variables from the predictors."
   ]
  },
  {
   "cell_type": "code",
   "execution_count": 200,
   "metadata": {},
   "outputs": [],
   "source": [
    "listings19 = listings19.drop(['listing_url', 'scrape_id', 'last_scraped', 'summary', 'space', 'description', 'neighborhood_overview',\n",
    "                'notes', 'transit', 'house_rules', 'picture_url', 'host_url', 'host_name', 'host_about', 'street', 'country',\n",
    "                'calendar_last_scraped'], axis = 1)"
   ]
  },
  {
   "cell_type": "code",
   "execution_count": 201,
   "metadata": {},
   "outputs": [],
   "source": [
    "X_naive = listings19[['host_response_time', 'host_response_rate','host_listings_count',\n",
    "                          'latitude','longitude','bath_bed_ratio','host_in_edin','host_is_superhost','host_identity_verified',\n",
    "                          'house','apartment','hotel','hostel','amenities_mc1',\n",
    "                          'amenities_mc2','amenities_mc3','amenities_mc4','amenities_mc5',\n",
    "                          'other_property_type','Area_Bruntsfield','Area_Cannonmills','Area_Haymarket',\n",
    "                          'Area_Leith','Area_Marchmont','Area_Morningside','Area_New Town','Area_Newington',\n",
    "                          'Area_Old Town','Area_Southside','Area_Stockbridge','Area_Tollcross','Area_West End',\n",
    "                          'review_pc0', 'review_pc1', 'review_pc2']]\n",
    "\n",
    "y = listings19['price']\n",
    "\n",
    "X_train, X_test, y_train, y_test = train_test_split(X_naive, y, test_size=0.2, random_state=101)"
   ]
  },
  {
   "cell_type": "code",
   "execution_count": 202,
   "metadata": {},
   "outputs": [
    {
     "name": "stderr",
     "output_type": "stream",
     "text": [
      "C:\\Users\\s1533194\\AppData\\Local\\Continuum\\anaconda3\\lib\\site-packages\\sklearn\\linear_model\\logistic.py:432: FutureWarning: Default solver will be changed to 'lbfgs' in 0.22. Specify a solver to silence this warning.\n",
      "  FutureWarning)\n",
      "C:\\Users\\s1533194\\AppData\\Local\\Continuum\\anaconda3\\lib\\site-packages\\sklearn\\linear_model\\logistic.py:469: FutureWarning: Default multi_class will be changed to 'auto' in 0.22. Specify the multi_class option to silence this warning.\n",
      "  \"this warning.\", FutureWarning)\n"
     ]
    },
    {
     "data": {
      "text/plain": [
       "array([ True,  True,  True,  True,  True,  True,  True, False, False,\n",
       "        True,  True,  True,  True,  True,  True,  True,  True,  True,\n",
       "        True,  True,  True,  True,  True,  True,  True,  True,  True,\n",
       "        True,  True,  True,  True,  True,  True,  True,  True])"
      ]
     },
     "execution_count": 202,
     "metadata": {},
     "output_type": "execute_result"
    }
   ],
   "source": [
    "from sklearn.linear_model import Lasso, LogisticRegression\n",
    "from sklearn.feature_selection import SelectFromModel\n",
    "\n",
    "sel_ = SelectFromModel(LogisticRegression(C=1, penalty='l1'))\n",
    "sel_.fit(scaler.fit_transform(X_train), y_train)"
   ]
  },
  {
   "cell_type": "code",
   "execution_count": 203,
   "metadata": {},
   "outputs": [
    {
     "name": "stdout",
     "output_type": "stream",
     "text": [
      "total features: 35\n",
      "selected features: 33\n"
     ]
    },
    {
     "data": {
      "text/plain": [
       "Index(['host_is_superhost', 'host_identity_verified'], dtype='object')"
      ]
     },
     "execution_count": 203,
     "metadata": {},
     "output_type": "execute_result"
    }
   ],
   "source": [
    "selected_feat = X_train.columns[(sel_.get_support())]\n",
    "rejected_feat = X_train.columns[np.invert(sel_.get_support())]\n",
    "\n",
    "print('total features: {}'.format((X_train.shape[1])))\n",
    "print('selected features: {}'.format(len(selected_feat)))\n",
    "\n",
    "rejected_feat"
   ]
  },
  {
   "cell_type": "markdown",
   "metadata": {},
   "source": [
    "## Initial Modelling\n",
    "\n",
    "First I attempt a very simple linear regression. This has a coefficient of determination of 0.15."
   ]
  },
  {
   "cell_type": "code",
   "execution_count": 213,
   "metadata": {},
   "outputs": [],
   "source": [
    "X_train = X_train.loc[:, (sel_.get_support())]\n",
    "X_test = X_test.loc[:, (sel_.get_support())]"
   ]
  },
  {
   "cell_type": "code",
   "execution_count": 220,
   "metadata": {},
   "outputs": [
    {
     "name": "stdout",
     "output_type": "stream",
     "text": [
      "Coefficients: \n",
      " [-3.67176745e-01 -3.52848641e-01  7.04786776e-02 -2.08951816e+02\n",
      " -4.46976178e+02 -5.90916912e+01 -8.43084592e+00 -1.20489141e+01\n",
      " -3.41658746e+01 -1.01069600e+01  1.02766198e+02 -6.98537185e+01\n",
      "  6.82515960e+01 -5.83670386e+01  2.37128170e+01 -7.11056794e+01\n",
      " -4.64444491e+01 -9.07947306e+00  7.91810109e+00 -3.12540754e+01\n",
      " -1.08388726e+00  1.02143029e+01 -3.22266451e+01  2.99542177e+01\n",
      "  4.90477644e+00  2.06421862e+01  1.10660426e+01 -4.31048384e+00\n",
      " -1.29655675e+01  6.22050530e+00 -1.62976935e+00  1.28831582e+00\n",
      "  7.19108836e-01]\n",
      "Mean squared error: 6178.40\n",
      "Coefficient of determination: 0.15\n"
     ]
    }
   ],
   "source": [
    "regr = LinearRegression()\n",
    "initial_fit = regr.fit(X_train, y_train)\n",
    "\n",
    "y_pred = initial_fit.predict(X_test)\n",
    "\n",
    "print('Coefficients: \\n', initial_fit.coef_)\n",
    "print('Mean squared error: %.2f'\n",
    "      % mean_squared_error(y_test, y_pred))\n",
    "print('Coefficient of determination: %.2f'\n",
    "      % r2_score(y_test, y_pred))"
   ]
  },
  {
   "cell_type": "code",
   "execution_count": null,
   "metadata": {},
   "outputs": [],
   "source": []
  }
 ],
 "metadata": {
  "kernelspec": {
   "display_name": "Python 3",
   "language": "python",
   "name": "python3"
  },
  "language_info": {
   "codemirror_mode": {
    "name": "ipython",
    "version": 3
   },
   "file_extension": ".py",
   "mimetype": "text/x-python",
   "name": "python",
   "nbconvert_exporter": "python",
   "pygments_lexer": "ipython3",
   "version": "3.7.4"
  }
 },
 "nbformat": 4,
 "nbformat_minor": 2
}
